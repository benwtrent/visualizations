{
 "cells": [
  {
   "cell_type": "code",
   "execution_count": 4,
   "metadata": {},
   "outputs": [],
   "source": [
    "import jupyter_manim\n",
    "import numpy as np\n",
    "from manim import *\n",
    "\n",
    "config.media_width = \"75%\"\n",
    "config.verbosity = \"WARNING\""
   ]
  },
  {
   "cell_type": "code",
   "execution_count": 2,
   "metadata": {},
   "outputs": [],
   "source": [
    "def int4Quantize(x):\n",
    "    lower = np.min(x)\n",
    "    upper = np.max(x)\n",
    "    width = (upper - lower) / ((1 << 4) - 1)\n",
    "    return np.round((x - lower) / width).astype(np.int8)"
   ]
  },
  {
   "cell_type": "code",
   "execution_count": 7,
   "metadata": {},
   "outputs": [
    {
     "data": {
      "text/plain": [
       "-0.38"
      ]
     },
     "execution_count": 7,
     "metadata": {},
     "output_type": "execute_result"
    }
   ],
   "source": [
    "np.min(np.array([-0.09, 0.19, 0.01, -0.10, -0.23, -0.38, -0.05, -0.03]))"
   ]
  },
  {
   "cell_type": "code",
   "execution_count": null,
   "metadata": {},
   "outputs": [],
   "source": [
    "# 11100011, 01011000, 01110000, 01010011\n",
    "# as integer byte values\n",
    "# 227, 88, 112, 83 "
   ]
  },
  {
   "cell_type": "code",
   "execution_count": null,
   "metadata": {},
   "outputs": [],
   "source": [
    "%%manim -ql BinaryQuantizeVectorNorm\n",
    "\n",
    "# three random float vectors of 8 dimensions\n",
    "v1 = np.round(np.array([np.random.rand() for _ in range(8)]), 3)\n",
    "v2 = np.round(np.array([np.random.rand() for _ in range(8)]), 3)\n",
    "v3 = np.round(np.array([np.random.rand() for _ in range(8)]), 3)\n",
    "centroid = np.round(np.mean([v1,v2,v3],axis=0), 3)\n",
    "\n",
    "v1_ = v1 - centroid\n",
    "v2_ = v2 - centroid\n",
    "v3_ = v3 - centroid\n",
    "\n",
    "v1_int4 = int4Quantize(v1_)\n",
    "v2_int4 = int4Quantize(v2_)\n",
    "v3_int4 = int4Quantize(v3_)\n",
    "\n",
    "class BinaryQuantizeVectorNorm(Scene):"
   ]
  }
 ],
 "metadata": {
  "kernelspec": {
   "display_name": ".venv",
   "language": "python",
   "name": "python3"
  },
  "language_info": {
   "codemirror_mode": {
    "name": "ipython",
    "version": 3
   },
   "file_extension": ".py",
   "mimetype": "text/x-python",
   "name": "python",
   "nbconvert_exporter": "python",
   "pygments_lexer": "ipython3",
   "version": "3.12.7"
  }
 },
 "nbformat": 4,
 "nbformat_minor": 2
}
