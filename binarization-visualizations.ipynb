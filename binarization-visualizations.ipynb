{
 "cells": [
  {
   "cell_type": "code",
   "execution_count": 1,
   "metadata": {},
   "outputs": [],
   "source": [
    "import jupyter_manim\n",
    "import numpy as np\n",
    "from manim import *\n",
    "\n",
    "config.media_width = \"75%\"\n",
    "config.verbosity = \"WARNING\""
   ]
  },
  {
   "cell_type": "code",
   "execution_count": 2,
   "metadata": {},
   "outputs": [
    {
     "data": {
      "text/html": [
       "<pre style=\"white-space:pre;overflow-x:auto;line-height:normal;font-family:Menlo,'DejaVu Sans Mono',consolas,'Courier New',monospace\">Manim Community <span style=\"color: #008000; text-decoration-color: #008000\">v0.18.1</span>\n",
       "\n",
       "</pre>\n"
      ],
      "text/plain": [
       "Manim Community \u001b[32mv0.\u001b[0m\u001b[32m18.1\u001b[0m\n",
       "\n"
      ]
     },
     "metadata": {},
     "output_type": "display_data"
    },
    {
     "name": "stderr",
     "output_type": "stream",
     "text": [
      "                                                                                                                                                    \r"
     ]
    },
    {
     "data": {
      "text/html": [
       "<video src=\"media/jupyter/BinaryQuantizeVector@2024-10-28@13-19-21.mp4\" controls autoplay loop style=\"max-width: 75%;\"  >\n",
       "      Your browser does not support the <code>video</code> element.\n",
       "    </video>"
      ],
      "text/plain": [
       "<IPython.core.display.Video object>"
      ]
     },
     "metadata": {},
     "output_type": "display_data"
    }
   ],
   "source": [
    "%%manim -qm BinaryQuantizeVector\n",
    "\n",
    "class BinaryQuantizeVector(Scene):\n",
    "    def construct(self):\n",
    "        vector = np.random.rand(8) * 2 - 1\n",
    "        vector_formula = MathTex(\n",
    "            r\"[\",\n",
    "            r\"-0.38\",\n",
    "            r\",\",\n",
    "            r\"0.45\",\n",
    "            r\",\",\n",
    "            r\"-0.95\",\n",
    "            r\",\",\n",
    "            r\"-0.42\",\n",
    "            r\",\",\n",
    "            r\"-0.50\",\n",
    "            r\",\",\n",
    "            r\"-0.71\",\n",
    "            r\",\",\n",
    "            r\"0.13\",\n",
    "            r\",\",\n",
    "            r\"0.61\",\n",
    "            r\"]\"\n",
    "        ).shift(UP)\n",
    "        vector_results = MathTex(\n",
    "            r\"[\",\n",
    "            r\"0\",\n",
    "            r\"1\",\n",
    "            r\"0\",\n",
    "            r\"0\",\n",
    "            r\"0\",\n",
    "            r\"0\",\n",
    "            r\"1\",\n",
    "            r\"1\",\n",
    "            r\"]\"\n",
    "        )\n",
    "        simple_formula = MathTex(r\"x > 0\")\n",
    "        ending_number = MathTex(r\"67\").shift(DOWN)\n",
    "        # lets write the entire vector first into a single string, with brackets on either end separated by commas\n",
    "        self.play(Write(vector_formula, run_time=1), Write(simple_formula, run_time=1))\n",
    "        # only write the first and last object in the vector_results\n",
    "        # ensure its written below the simple_formula\n",
    "        self.play(Write(vector_results[0].shift(DOWN)), Write(vector_results[9].shift(DOWN)))\n",
    "        # now for each one, we visually surround with a box and then write the quantized value\n",
    "        boxes = [] \n",
    "        for i in range(1, 16, 2):\n",
    "            boxes.append(SurroundingRectangle(vector_formula[i], buff=0.1))\n",
    "        boxes.append(SurroundingRectangle(vector_formula[14], buff=0.1))\n",
    "        forumla_box = SurroundingRectangle(simple_formula, buff=0.1)\n",
    "        for i in range(0, len(boxes) - 1):\n",
    "            self.play(Create(boxes[i], run_time=0.65))\n",
    "            self.play(Uncreate(boxes[i], run_time=0.65), Write(vector_results[i + 1].shift(DOWN), run_time=0.65))\n",
    "        \n",
    "        self.play(TransformMatchingShapes(vector_results, ending_number))\n",
    "        self.play(Create(SurroundingRectangle(ending_number, color=BLUE, buff=0.1)))\n",
    "        self.wait()"
   ]
  },
  {
   "cell_type": "code",
   "execution_count": null,
   "metadata": {},
   "outputs": [],
   "source": [
    "%%manim -ql HammingDistance\n",
    "class HammingDistance(Scene):\n",
    "    def construct(self):\n",
    "        # lets write the two bit vectors each with 8 elements\n",
    "        vector1 = MathTex(\n",
    "            r\"0\",\n",
    "            r\"1\",\n",
    "            r\"0\",\n",
    "            r\"1\",\n",
    "            r\"0\",\n",
    "            r\"0\",\n",
    "            r\"1\",\n",
    "            r\"1\"\n",
    "        ).shift(UP)\n",
    "        vector2 = MathTex(\n",
    "            r\"0\",\n",
    "            r\"1\",\n",
    "            r\"1\",\n",
    "            r\"0\",\n",
    "            r\"0\",\n",
    "            r\"0\",\n",
    "            r\"1\",\n",
    "            r\"1\"\n",
    "        )\n",
    "        hamming_result = MathTex(\n",
    "            r\"0\",\n",
    "            r\"0\",\n",
    "            r\"1\",\n",
    "            r\"1\",\n",
    "            r\"0\",\n",
    "            r\"0\",\n",
    "            r\"0\",\n",
    "            r\"0\"\n",
    "        ).shift(DOWN)\n",
    "        hamming_sum = MathTex(r\"2\").shift(DOWN)\n",
    "        # lets write the hamming distance formula\n",
    "        hamming_formula = MathTex(r\"d(x, y) = \\sum_{i=1}^{n} |x_i \\oplus y_i|\").shift(UP * 2)\n",
    "        self.play(Write(vector1, run_time=1), Write(vector2, run_time=1), Write(hamming_formula, run_time=1))\n",
    "        # lets write the hamming distance formula\n",
    "        boxes = []\n",
    "        boxes2 = []\n",
    "        for i in range(0, 8):\n",
    "            boxes.append(SurroundingRectangle(vector1[i], buff=0.1))\n",
    "            boxes2.append(SurroundingRectangle(vector2[i], buff=0.1))\n",
    "        for i in range(0, len(boxes)):\n",
    "            self.play(Create(boxes[i], run_time=0.5), Create(boxes2[i], run_time=0.5))\n",
    "            self.play(Uncreate(boxes[i], run_time=0.5), Uncreate(boxes2[i], run_time=0.5), Write(hamming_result[i], run_time=0.5))\n",
    "        self.play(TransformMatchingShapes(hamming_result, hamming_sum))\n",
    "        self.play(Create(SurroundingRectangle(hamming_sum, color=BLUE, buff=0.1)))\n",
    "        self.wait()"
   ]
  }
 ],
 "metadata": {
  "kernelspec": {
   "display_name": ".venv",
   "language": "python",
   "name": "python3"
  },
  "language_info": {
   "codemirror_mode": {
    "name": "ipython",
    "version": 3
   },
   "file_extension": ".py",
   "mimetype": "text/x-python",
   "name": "python",
   "nbconvert_exporter": "python",
   "pygments_lexer": "ipython3",
   "version": "3.12.7"
  }
 },
 "nbformat": 4,
 "nbformat_minor": 2
}
