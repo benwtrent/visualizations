{
 "cells": [
  {
   "cell_type": "code",
   "execution_count": 23,
   "metadata": {},
   "outputs": [],
   "source": [
    "import jupyter_manim\n",
    "import numpy as np\n",
    "from manim import *\n",
    "\n",
    "config.media_width = \"100%\"\n",
    "config.verbosity = \"WARNING\""
   ]
  },
  {
   "cell_type": "code",
   "execution_count": 69,
   "metadata": {},
   "outputs": [
    {
     "data": {
      "text/html": [
       "<pre style=\"white-space:pre;overflow-x:auto;line-height:normal;font-family:Menlo,'DejaVu Sans Mono',consolas,'Courier New',monospace\">Manim Community <span style=\"color: #008000; text-decoration-color: #008000\">v0.18.1</span>\n",
       "\n",
       "</pre>\n"
      ],
      "text/plain": [
       "Manim Community \u001b[32mv0.\u001b[0m\u001b[32m18.1\u001b[0m\n",
       "\n"
      ]
     },
     "metadata": {},
     "output_type": "display_data"
    },
    {
     "name": "stderr",
     "output_type": "stream",
     "text": [
      "                                                                                               \r"
     ]
    },
    {
     "data": {
      "text/html": [
       "<video src=\"media/jupyter/NormalizeVectorsOnCentroid@2024-09-23@16-01-13.mp4\" controls autoplay loop style=\"max-width: 100%;\"  >\n",
       "      Your browser does not support the <code>video</code> element.\n",
       "    </video>"
      ],
      "text/plain": [
       "<IPython.core.display.Video object>"
      ]
     },
     "metadata": {},
     "output_type": "display_data"
    }
   ],
   "source": [
    "%%manim -ql NormalizeVectorsOnCentroid\n",
    "\n",
    "\n",
    "# This shows 3 2d vectors, visually shows their centroid, and then orients them around the centroid\n",
    "class NormalizeVectorsOnCentroid(Scene):\n",
    "    v1=[0.56,0.82, 0.0]\n",
    "    v2=[1.23,0.71, 0.0]\n",
    "    v3=[-3.28,2.13, 0.0]\n",
    "    centroid = np.mean([v1,v2,v3],axis=0)\n",
    "    # ensure the centroid is clipped to only two decimal places\n",
    "    centroid = np.round(centroid,2)\n",
    "    # now normalize the vectors _v1,_v2,_v3\n",
    "    # equation v1 = (v1−c)/∣∣v1−c∣∣\n",
    "    _v1 = (v1-centroid)/np.linalg.norm(v1-centroid)\n",
    "    _v2 = (v2-centroid)/np.linalg.norm(v2-centroid)\n",
    "    _v3 = (v3-centroid)/np.linalg.norm(v3-centroid)\n",
    "    # clip the normalized vectors to two decimal places\n",
    "    _v1 = np.round(_v1,2)\n",
    "    _v2 = np.round(_v2,2)\n",
    "    _v3 = np.round(_v3,2)    \n",
    "\n",
    "\n",
    "    def setup_axes(self):\n",
    "        self.axes = Axes(\n",
    "            x_range=[-4, 4],\n",
    "            y_range=[-4, 4],\n",
    "            x_length=8,\n",
    "            y_length=8,\n",
    "            axis_config={\"color\": BLUE},\n",
    "        )\n",
    "        self.add(self.axes)\n",
    "    \n",
    "    def plot_vectors(self):\n",
    "        l1 = Line(start=ORIGIN,end=self.v1)\n",
    "        l2 = Line(start=ORIGIN,end=self.v2)\n",
    "        l3 = Line(start=ORIGIN,end=self.v3)\n",
    "        v1Dot = Dot().move_to(self.v1).scale(0.75).set_color(RED_A)\n",
    "        v2Dot = Dot().move_to(self.v2).scale(0.75).set_color(RED_B)\n",
    "        v3Dot = Dot().move_to(self.v3).scale(0.75).set_color(RED_C)\n",
    "        _v1Dot = Dot().move_to(self._v1).scale(0.75).set_color(GREEN_A)\n",
    "        _v2Dot = Dot().move_to(self._v2).scale(0.75).set_color(GREEN_B)\n",
    "        _v3Dot = Dot().move_to(self._v3).scale(0.75).set_color(GREEN_C)\n",
    "        self.play(Create(VGroup(l1,l2,l3)))\n",
    "        # write the vectors positions on the graph\n",
    "        # make the text smaller\n",
    "        to_write = [Tex(f\"({self.v1[0]},{self.v1[1]})\").scale(0.75).next_to(self.v1,np.array([0.5,0,0])),\n",
    "                    Tex(f\"({self.v2[0]},{self.v2[1]})\").scale(0.75).next_to(self.v2,np.array([0.5,-0.2,0])),\n",
    "                    Tex(f\"({self.v3[0]},{self.v3[1]})\").scale(0.75).next_to(self.v3,np.array([0.5,0,0]))]\n",
    "        self.play(Write(to_write[0]),Write(to_write[1]),Write(to_write[2]))\n",
    "        # transform the lines into dots\n",
    "        self.play(Transform(l1,v1Dot),Transform(l2,v2Dot),Transform(l3,v3Dot))\n",
    "        ## show the centroid as a blue dot, also writing its position\n",
    "        centroid_dot = Dot().move_to(self.centroid).set_color(ORANGE).scale(0.75)\n",
    "        centroid_text = Tex(f\"({self.centroid[0]},{self.centroid[1]})\").scale(0.75).next_to(centroid_dot,np.array([1,0,0]))\n",
    "        self.play(Create(centroid_dot), Write(centroid_text))\n",
    "        ## move each of the dots to the normalized positions, ensuring old dots are removed\n",
    "        self.play(\n",
    "            Transform(v1Dot,_v1Dot),\n",
    "            Transform(v2Dot,_v2Dot),\n",
    "            Transform(v3Dot,_v3Dot), \n",
    "            Transform(centroid_dot,Dot().move_to(ORIGIN).set_color(ORANGE).scale(0.75)),\n",
    "            FadeOut(to_write[0]),\n",
    "            FadeOut(to_write[1]),\n",
    "            FadeOut(to_write[2]),\n",
    "             FadeOut(centroid_text),\n",
    "             FadeOut(l1),\n",
    "             FadeOut(l2),\n",
    "             FadeOut(l3)\n",
    "            )\n",
    "        ## write the normalized positions\n",
    "        to_write = [\n",
    "            Tex(f\"({self._v1[0]},{self._v1[1]})\").scale(0.75).next_to(self._v1,np.array([0.5,-0.5,0])).set_color(GREEN_A),\n",
    "            Tex(f\"({self._v2[0]},{self._v2[1]})\").scale(0.75).next_to(self._v2,np.array([0.5,0.5,0])).set_color(GREEN_B),\n",
    "            Tex(f\"({self._v3[0]},{self._v3[1]})\").scale(0.75).next_to(self._v3,np.array([0.5,0,0])).set_color(GREEN_C)\n",
    "        ]\n",
    "        self.play(Write(to_write[0]),Write(to_write[1]),Write(to_write[2]))\n",
    "        ## draw a dotted circle around the centroid, with radius equal 1\n",
    "        circle = Circle(radius=1).move_to(ORIGIN).set_color(BLUE).set_stroke(width=2,opacity=0.5)\n",
    "        self.play(Create(circle))\n",
    "\n",
    "    # create an axis and plot the vectors, origin at 0,0\n",
    "    def construct(self):\n",
    "        self.setup_axes()\n",
    "        self.plot_vectors()\n",
    "        self.wait(1)"
   ]
  }
 ],
 "metadata": {
  "kernelspec": {
   "display_name": ".venv",
   "language": "python",
   "name": "python3"
  },
  "language_info": {
   "codemirror_mode": {
    "name": "ipython",
    "version": 3
   },
   "file_extension": ".py",
   "mimetype": "text/x-python",
   "name": "python",
   "nbconvert_exporter": "python",
   "pygments_lexer": "ipython3",
   "version": "3.12.4"
  }
 },
 "nbformat": 4,
 "nbformat_minor": 2
}
