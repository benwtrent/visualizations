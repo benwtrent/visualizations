{
 "cells": [
  {
   "cell_type": "code",
   "execution_count": 23,
   "metadata": {},
   "outputs": [],
   "source": [
    "import jupyter_manim\n",
    "import numpy as np\n",
    "from manim import *\n",
    "\n",
    "config.media_width = \"100%\"\n",
    "config.verbosity = \"WARNING\""
   ]
  },
  {
   "cell_type": "code",
   "execution_count": 10,
   "metadata": {},
   "outputs": [
    {
     "data": {
      "text/plain": [
       "array([1., 0., 0.])"
      ]
     },
     "execution_count": 10,
     "metadata": {},
     "output_type": "execute_result"
    }
   ],
   "source": []
  },
  {
   "cell_type": "code",
   "execution_count": 65,
   "metadata": {},
   "outputs": [
    {
     "data": {
      "text/html": [
       "<pre style=\"white-space:pre;overflow-x:auto;line-height:normal;font-family:Menlo,'DejaVu Sans Mono',consolas,'Courier New',monospace\">Manim Community <span style=\"color: #008000; text-decoration-color: #008000\">v0.18.1</span>\n",
       "\n",
       "</pre>\n"
      ],
      "text/plain": [
       "Manim Community \u001b[32mv0.\u001b[0m\u001b[32m18.1\u001b[0m\n",
       "\n"
      ]
     },
     "metadata": {},
     "output_type": "display_data"
    },
    {
     "name": "stderr",
     "output_type": "stream",
     "text": [
      "                                                                                   \r"
     ]
    },
    {
     "ename": "ValueError",
     "evalue": "Called Scene.play with no animations",
     "output_type": "error",
     "traceback": [
      "\u001b[0;31m---------------------------------------------------------------------------\u001b[0m",
      "\u001b[0;31mValueError\u001b[0m                                Traceback (most recent call last)",
      "Cell \u001b[0;32mIn[65], line 1\u001b[0m\n\u001b[0;32m----> 1\u001b[0m \u001b[43mget_ipython\u001b[49m\u001b[43m(\u001b[49m\u001b[43m)\u001b[49m\u001b[38;5;241;43m.\u001b[39;49m\u001b[43mrun_cell_magic\u001b[49m\u001b[43m(\u001b[49m\u001b[38;5;124;43m'\u001b[39;49m\u001b[38;5;124;43mmanim\u001b[39;49m\u001b[38;5;124;43m'\u001b[39;49m\u001b[43m,\u001b[49m\u001b[43m \u001b[49m\u001b[38;5;124;43m'\u001b[39;49m\u001b[38;5;124;43m-ql NormalizeVectorsOnCentroid\u001b[39;49m\u001b[38;5;124;43m'\u001b[39;49m\u001b[43m,\u001b[49m\u001b[43m \u001b[49m\u001b[38;5;124;43m'\u001b[39;49m\u001b[38;5;130;43;01m\\n\u001b[39;49;00m\u001b[38;5;124;43m# This shows 3 2d vectors, visually shows their centroid, and then orients them around the centroid\u001b[39;49m\u001b[38;5;130;43;01m\\n\u001b[39;49;00m\u001b[38;5;124;43mclass NormalizeVectorsOnCentroid(Scene):\u001b[39;49m\u001b[38;5;130;43;01m\\n\u001b[39;49;00m\u001b[38;5;124;43m    v1=[0.56,0.82, 0.0]\u001b[39;49m\u001b[38;5;130;43;01m\\n\u001b[39;49;00m\u001b[38;5;124;43m    v2=[1.23,0.71, 0.0]\u001b[39;49m\u001b[38;5;130;43;01m\\n\u001b[39;49;00m\u001b[38;5;124;43m    v3=[-3.28,2.13, 0.0]\u001b[39;49m\u001b[38;5;130;43;01m\\n\u001b[39;49;00m\u001b[38;5;124;43m    centroid = np.mean([v1,v2,v3],axis=0)\u001b[39;49m\u001b[38;5;130;43;01m\\n\u001b[39;49;00m\u001b[38;5;124;43m    # ensure the centroid is clipped to only two decimal places\u001b[39;49m\u001b[38;5;130;43;01m\\n\u001b[39;49;00m\u001b[38;5;124;43m    centroid = np.round(centroid,2)\u001b[39;49m\u001b[38;5;130;43;01m\\n\u001b[39;49;00m\u001b[38;5;124;43m    # now normalize the vectors _v1,_v2,_v3\u001b[39;49m\u001b[38;5;130;43;01m\\n\u001b[39;49;00m\u001b[38;5;124;43m    # equation v1 = (v1−c)/∣∣v1−c∣∣\u001b[39;49m\u001b[38;5;130;43;01m\\n\u001b[39;49;00m\u001b[38;5;124;43m    _v1 = (v1-centroid)/np.linalg.norm(v1-centroid)\u001b[39;49m\u001b[38;5;130;43;01m\\n\u001b[39;49;00m\u001b[38;5;124;43m    _v2 = (v2-centroid)/np.linalg.norm(v2-centroid)\u001b[39;49m\u001b[38;5;130;43;01m\\n\u001b[39;49;00m\u001b[38;5;124;43m    _v3 = (v3-centroid)/np.linalg.norm(v3-centroid)\u001b[39;49m\u001b[38;5;130;43;01m\\n\u001b[39;49;00m\u001b[38;5;124;43m    # clip the normalized vectors to two decimal places\u001b[39;49m\u001b[38;5;130;43;01m\\n\u001b[39;49;00m\u001b[38;5;124;43m    _v1 = np.round(_v1,2)\u001b[39;49m\u001b[38;5;130;43;01m\\n\u001b[39;49;00m\u001b[38;5;124;43m    _v2 = np.round(_v2,2)\u001b[39;49m\u001b[38;5;130;43;01m\\n\u001b[39;49;00m\u001b[38;5;124;43m    _v3 = np.round(_v3,2)    \u001b[39;49m\u001b[38;5;130;43;01m\\n\u001b[39;49;00m\u001b[38;5;130;43;01m\\n\u001b[39;49;00m\u001b[38;5;130;43;01m\\n\u001b[39;49;00m\u001b[38;5;124;43m    def setup_axes(self):\u001b[39;49m\u001b[38;5;130;43;01m\\n\u001b[39;49;00m\u001b[38;5;124;43m        self.axes = Axes(\u001b[39;49m\u001b[38;5;130;43;01m\\n\u001b[39;49;00m\u001b[38;5;124;43m            x_range=[-4, 4],\u001b[39;49m\u001b[38;5;130;43;01m\\n\u001b[39;49;00m\u001b[38;5;124;43m            y_range=[-4, 4],\u001b[39;49m\u001b[38;5;130;43;01m\\n\u001b[39;49;00m\u001b[38;5;124;43m            axis_config=\u001b[39;49m\u001b[38;5;124;43m{\u001b[39;49m\u001b[38;5;124;43m\"\u001b[39;49m\u001b[38;5;124;43mcolor\u001b[39;49m\u001b[38;5;124;43m\"\u001b[39;49m\u001b[38;5;124;43m: BLUE},\u001b[39;49m\u001b[38;5;130;43;01m\\n\u001b[39;49;00m\u001b[38;5;124;43m        )\u001b[39;49m\u001b[38;5;130;43;01m\\n\u001b[39;49;00m\u001b[38;5;124;43m        self.add(self.axes)\u001b[39;49m\u001b[38;5;130;43;01m\\n\u001b[39;49;00m\u001b[38;5;124;43m    \u001b[39;49m\u001b[38;5;130;43;01m\\n\u001b[39;49;00m\u001b[38;5;124;43m    def plot_vectors(self):\u001b[39;49m\u001b[38;5;130;43;01m\\n\u001b[39;49;00m\u001b[38;5;124;43m        l1 = Line(start=ORIGIN,end=self.v1)\u001b[39;49m\u001b[38;5;130;43;01m\\n\u001b[39;49;00m\u001b[38;5;124;43m        l2 = Line(start=ORIGIN,end=self.v2)\u001b[39;49m\u001b[38;5;130;43;01m\\n\u001b[39;49;00m\u001b[38;5;124;43m        l3 = Line(start=ORIGIN,end=self.v3)\u001b[39;49m\u001b[38;5;130;43;01m\\n\u001b[39;49;00m\u001b[38;5;124;43m        v1Dot = Dot().move_to(self.v1).scale(0.75).set_color(RED_A)\u001b[39;49m\u001b[38;5;130;43;01m\\n\u001b[39;49;00m\u001b[38;5;124;43m        v2Dot = Dot().move_to(self.v2).scale(0.75).set_color(RED_B)\u001b[39;49m\u001b[38;5;130;43;01m\\n\u001b[39;49;00m\u001b[38;5;124;43m        v3Dot = Dot().move_to(self.v3).scale(0.75).set_color(RED_C)\u001b[39;49m\u001b[38;5;130;43;01m\\n\u001b[39;49;00m\u001b[38;5;124;43m        _v1Dot = Dot().move_to(self._v1).scale(0.75).set_color(GREEN_A)\u001b[39;49m\u001b[38;5;130;43;01m\\n\u001b[39;49;00m\u001b[38;5;124;43m        _v2Dot = Dot().move_to(self._v2).scale(0.75).set_color(GREEN_B)\u001b[39;49m\u001b[38;5;130;43;01m\\n\u001b[39;49;00m\u001b[38;5;124;43m        _v3Dot = Dot().move_to(self._v3).scale(0.75).set_color(GREEN_C)\u001b[39;49m\u001b[38;5;130;43;01m\\n\u001b[39;49;00m\u001b[38;5;124;43m        self.play(Create(VGroup(l1,l2,l3)))\u001b[39;49m\u001b[38;5;130;43;01m\\n\u001b[39;49;00m\u001b[38;5;124;43m        # write the vectors positions on the graph\u001b[39;49m\u001b[38;5;130;43;01m\\n\u001b[39;49;00m\u001b[38;5;124;43m        # make the text smaller\u001b[39;49m\u001b[38;5;130;43;01m\\n\u001b[39;49;00m\u001b[38;5;124;43m        to_write = [Tex(f\u001b[39;49m\u001b[38;5;124;43m\"\u001b[39;49m\u001b[38;5;124;43m(\u001b[39;49m\u001b[38;5;132;43;01m{self.v1[0]}\u001b[39;49;00m\u001b[38;5;124;43m,\u001b[39;49m\u001b[38;5;132;43;01m{self.v1[1]}\u001b[39;49;00m\u001b[38;5;124;43m)\u001b[39;49m\u001b[38;5;124;43m\"\u001b[39;49m\u001b[38;5;124;43m).scale(0.75).next_to(self.v1,np.array([0.5,0,0])),\u001b[39;49m\u001b[38;5;130;43;01m\\n\u001b[39;49;00m\u001b[38;5;124;43m                    Tex(f\u001b[39;49m\u001b[38;5;124;43m\"\u001b[39;49m\u001b[38;5;124;43m(\u001b[39;49m\u001b[38;5;132;43;01m{self.v2[0]}\u001b[39;49;00m\u001b[38;5;124;43m,\u001b[39;49m\u001b[38;5;132;43;01m{self.v2[1]}\u001b[39;49;00m\u001b[38;5;124;43m)\u001b[39;49m\u001b[38;5;124;43m\"\u001b[39;49m\u001b[38;5;124;43m).scale(0.75).next_to(self.v2,np.array([0.5,-0.2,0])),\u001b[39;49m\u001b[38;5;130;43;01m\\n\u001b[39;49;00m\u001b[38;5;124;43m                    Tex(f\u001b[39;49m\u001b[38;5;124;43m\"\u001b[39;49m\u001b[38;5;124;43m(\u001b[39;49m\u001b[38;5;132;43;01m{self.v3[0]}\u001b[39;49;00m\u001b[38;5;124;43m,\u001b[39;49m\u001b[38;5;132;43;01m{self.v3[1]}\u001b[39;49;00m\u001b[38;5;124;43m)\u001b[39;49m\u001b[38;5;124;43m\"\u001b[39;49m\u001b[38;5;124;43m).scale(0.75).next_to(self.v3,np.array([0.5,0,0]))]\u001b[39;49m\u001b[38;5;130;43;01m\\n\u001b[39;49;00m\u001b[38;5;124;43m        self.play(Write(to_write[0]),Write(to_write[1]),Write(to_write[2]))\u001b[39;49m\u001b[38;5;130;43;01m\\n\u001b[39;49;00m\u001b[38;5;124;43m        # transform the lines into dots\u001b[39;49m\u001b[38;5;130;43;01m\\n\u001b[39;49;00m\u001b[38;5;124;43m        self.play(Transform(l1,v1Dot),Transform(l2,v2Dot),Transform(l3,v3Dot))\u001b[39;49m\u001b[38;5;130;43;01m\\n\u001b[39;49;00m\u001b[38;5;124;43m        ## show the centroid as a blue dot, also writing its position\u001b[39;49m\u001b[38;5;130;43;01m\\n\u001b[39;49;00m\u001b[38;5;124;43m        centroid_dot = Dot().move_to(self.centroid).set_color(ORANGE).scale(0.75)\u001b[39;49m\u001b[38;5;130;43;01m\\n\u001b[39;49;00m\u001b[38;5;124;43m        centroid_text = Tex(f\u001b[39;49m\u001b[38;5;124;43m\"\u001b[39;49m\u001b[38;5;124;43m(\u001b[39;49m\u001b[38;5;132;43;01m{self.centroid[0]}\u001b[39;49;00m\u001b[38;5;124;43m,\u001b[39;49m\u001b[38;5;132;43;01m{self.centroid[1]}\u001b[39;49;00m\u001b[38;5;124;43m)\u001b[39;49m\u001b[38;5;124;43m\"\u001b[39;49m\u001b[38;5;124;43m).scale(0.75).next_to(centroid_dot,np.array([1,0,0]))\u001b[39;49m\u001b[38;5;130;43;01m\\n\u001b[39;49;00m\u001b[38;5;124;43m        self.play(Create(centroid_dot), Write(centroid_text))\u001b[39;49m\u001b[38;5;130;43;01m\\n\u001b[39;49;00m\u001b[38;5;124;43m        ## remove the previously written text\u001b[39;49m\u001b[38;5;130;43;01m\\n\u001b[39;49;00m\u001b[38;5;124;43m        self.play()\u001b[39;49m\u001b[38;5;130;43;01m\\n\u001b[39;49;00m\u001b[38;5;124;43m        ## move each of the dots to the normalized positions, ensuring old dots are removed\u001b[39;49m\u001b[38;5;130;43;01m\\n\u001b[39;49;00m\u001b[38;5;124;43m        self.play(\u001b[39;49m\u001b[38;5;130;43;01m\\n\u001b[39;49;00m\u001b[38;5;124;43m            Transform(v1Dot,_v1Dot),\u001b[39;49m\u001b[38;5;130;43;01m\\n\u001b[39;49;00m\u001b[38;5;124;43m            Transform(v2Dot,_v2Dot),\u001b[39;49m\u001b[38;5;130;43;01m\\n\u001b[39;49;00m\u001b[38;5;124;43m            Transform(v3Dot,_v3Dot), \u001b[39;49m\u001b[38;5;130;43;01m\\n\u001b[39;49;00m\u001b[38;5;124;43m            Transform(centroid_dot,Dot().move_to(ORIGIN).set_color(ORANGE).scale(0.75)),\u001b[39;49m\u001b[38;5;130;43;01m\\n\u001b[39;49;00m\u001b[38;5;124;43m            FadeOut(to_write[0]),\u001b[39;49m\u001b[38;5;130;43;01m\\n\u001b[39;49;00m\u001b[38;5;124;43m            FadeOut(to_write[1]),\u001b[39;49m\u001b[38;5;130;43;01m\\n\u001b[39;49;00m\u001b[38;5;124;43m            FadeOut(to_write[2]),\u001b[39;49m\u001b[38;5;130;43;01m\\n\u001b[39;49;00m\u001b[38;5;124;43m             FadeOut(centroid_text),\u001b[39;49m\u001b[38;5;130;43;01m\\n\u001b[39;49;00m\u001b[38;5;124;43m             FadeOut(l1),\u001b[39;49m\u001b[38;5;130;43;01m\\n\u001b[39;49;00m\u001b[38;5;124;43m             FadeOut(l2),\u001b[39;49m\u001b[38;5;130;43;01m\\n\u001b[39;49;00m\u001b[38;5;124;43m             FadeOut(l3)\u001b[39;49m\u001b[38;5;130;43;01m\\n\u001b[39;49;00m\u001b[38;5;124;43m            )\u001b[39;49m\u001b[38;5;130;43;01m\\n\u001b[39;49;00m\u001b[38;5;124;43m        ## write the normalized positions\u001b[39;49m\u001b[38;5;130;43;01m\\n\u001b[39;49;00m\u001b[38;5;124;43m        to_write = [\u001b[39;49m\u001b[38;5;130;43;01m\\n\u001b[39;49;00m\u001b[38;5;124;43m            Tex(f\u001b[39;49m\u001b[38;5;124;43m\"\u001b[39;49m\u001b[38;5;124;43m(\u001b[39;49m\u001b[38;5;132;43;01m{self._v1[0]}\u001b[39;49;00m\u001b[38;5;124;43m,\u001b[39;49m\u001b[38;5;132;43;01m{self._v1[1]}\u001b[39;49;00m\u001b[38;5;124;43m)\u001b[39;49m\u001b[38;5;124;43m\"\u001b[39;49m\u001b[38;5;124;43m).scale(0.75).next_to(self._v1,np.array([0.5,-0.5,0])).set_color(GREEN_A),\u001b[39;49m\u001b[38;5;130;43;01m\\n\u001b[39;49;00m\u001b[38;5;124;43m            Tex(f\u001b[39;49m\u001b[38;5;124;43m\"\u001b[39;49m\u001b[38;5;124;43m(\u001b[39;49m\u001b[38;5;132;43;01m{self._v2[0]}\u001b[39;49;00m\u001b[38;5;124;43m,\u001b[39;49m\u001b[38;5;132;43;01m{self._v2[1]}\u001b[39;49;00m\u001b[38;5;124;43m)\u001b[39;49m\u001b[38;5;124;43m\"\u001b[39;49m\u001b[38;5;124;43m).scale(0.75).next_to(self._v2,np.array([0.5,0.5,0])).set_color(GREEN_B),\u001b[39;49m\u001b[38;5;130;43;01m\\n\u001b[39;49;00m\u001b[38;5;124;43m            Tex(f\u001b[39;49m\u001b[38;5;124;43m\"\u001b[39;49m\u001b[38;5;124;43m(\u001b[39;49m\u001b[38;5;132;43;01m{self._v3[0]}\u001b[39;49;00m\u001b[38;5;124;43m,\u001b[39;49m\u001b[38;5;132;43;01m{self._v3[1]}\u001b[39;49;00m\u001b[38;5;124;43m)\u001b[39;49m\u001b[38;5;124;43m\"\u001b[39;49m\u001b[38;5;124;43m).scale(0.75).next_to(self._v3,np.array([0.5,0,0])).set_color(GREEN_C)\u001b[39;49m\u001b[38;5;130;43;01m\\n\u001b[39;49;00m\u001b[38;5;124;43m        ]\u001b[39;49m\u001b[38;5;130;43;01m\\n\u001b[39;49;00m\u001b[38;5;124;43m        self.play(Write(to_write[0]),Write(to_write[1]),Write(to_write[2]))\u001b[39;49m\u001b[38;5;130;43;01m\\n\u001b[39;49;00m\u001b[38;5;124;43m        ## draw a dotted circle around the centroid, with radius equal 1\u001b[39;49m\u001b[38;5;130;43;01m\\n\u001b[39;49;00m\u001b[38;5;124;43m        circle = Circle(radius=1).move_to(ORIGIN).set_color(BLUE).set_stroke(width=2,opacity=0.5)\u001b[39;49m\u001b[38;5;130;43;01m\\n\u001b[39;49;00m\u001b[38;5;124;43m        self.play(Create(circle))\u001b[39;49m\u001b[38;5;130;43;01m\\n\u001b[39;49;00m\u001b[38;5;130;43;01m\\n\u001b[39;49;00m\u001b[38;5;130;43;01m\\n\u001b[39;49;00m\u001b[38;5;124;43m    def show_result(self):\u001b[39;49m\u001b[38;5;130;43;01m\\n\u001b[39;49;00m\u001b[38;5;124;43m        self.play(Create(Arrow(start=self.centroid,end=self.centroid+self.v1),Arrow(start=self.centroid,end=self.centroid+self.v2),Arrow(start=self.centroid,end=self.centroid+self.v3)))\u001b[39;49m\u001b[38;5;130;43;01m\\n\u001b[39;49;00m\u001b[38;5;130;43;01m\\n\u001b[39;49;00m\u001b[38;5;130;43;01m\\n\u001b[39;49;00m\u001b[38;5;124;43m    # create an axis and plot the vectors, origin at 0,0\u001b[39;49m\u001b[38;5;130;43;01m\\n\u001b[39;49;00m\u001b[38;5;124;43m    def construct(self):\u001b[39;49m\u001b[38;5;130;43;01m\\n\u001b[39;49;00m\u001b[38;5;124;43m        self.setup_axes()\u001b[39;49m\u001b[38;5;130;43;01m\\n\u001b[39;49;00m\u001b[38;5;124;43m        self.plot_vectors()\u001b[39;49m\u001b[38;5;130;43;01m\\n\u001b[39;49;00m\u001b[38;5;124;43m        self.wait(1)\u001b[39;49m\u001b[38;5;130;43;01m\\n\u001b[39;49;00m\u001b[38;5;124;43m'\u001b[39;49m\u001b[43m)\u001b[49m\n",
      "File \u001b[0;32m~/Projects/visualizations/.venv/lib/python3.12/site-packages/IPython/core/interactiveshell.py:2541\u001b[0m, in \u001b[0;36mInteractiveShell.run_cell_magic\u001b[0;34m(self, magic_name, line, cell)\u001b[0m\n\u001b[1;32m   2539\u001b[0m \u001b[38;5;28;01mwith\u001b[39;00m \u001b[38;5;28mself\u001b[39m\u001b[38;5;241m.\u001b[39mbuiltin_trap:\n\u001b[1;32m   2540\u001b[0m     args \u001b[38;5;241m=\u001b[39m (magic_arg_s, cell)\n\u001b[0;32m-> 2541\u001b[0m     result \u001b[38;5;241m=\u001b[39m \u001b[43mfn\u001b[49m\u001b[43m(\u001b[49m\u001b[38;5;241;43m*\u001b[39;49m\u001b[43margs\u001b[49m\u001b[43m,\u001b[49m\u001b[43m \u001b[49m\u001b[38;5;241;43m*\u001b[39;49m\u001b[38;5;241;43m*\u001b[39;49m\u001b[43mkwargs\u001b[49m\u001b[43m)\u001b[49m\n\u001b[1;32m   2543\u001b[0m \u001b[38;5;66;03m# The code below prevents the output from being displayed\u001b[39;00m\n\u001b[1;32m   2544\u001b[0m \u001b[38;5;66;03m# when using magics with decorator @output_can_be_silenced\u001b[39;00m\n\u001b[1;32m   2545\u001b[0m \u001b[38;5;66;03m# when the last Python token in the expression is a ';'.\u001b[39;00m\n\u001b[1;32m   2546\u001b[0m \u001b[38;5;28;01mif\u001b[39;00m \u001b[38;5;28mgetattr\u001b[39m(fn, magic\u001b[38;5;241m.\u001b[39mMAGIC_OUTPUT_CAN_BE_SILENCED, \u001b[38;5;28;01mFalse\u001b[39;00m):\n",
      "File \u001b[0;32m~/Projects/visualizations/.venv/lib/python3.12/site-packages/manim/utils/ipython_magic.py:143\u001b[0m, in \u001b[0;36mManimMagic.manim\u001b[0;34m(self, line, cell, local_ns)\u001b[0m\n\u001b[1;32m    141\u001b[0m     SceneClass \u001b[38;5;241m=\u001b[39m local_ns[config[\u001b[38;5;124m\"\u001b[39m\u001b[38;5;124mscene_names\u001b[39m\u001b[38;5;124m\"\u001b[39m][\u001b[38;5;241m0\u001b[39m]]\n\u001b[1;32m    142\u001b[0m     scene \u001b[38;5;241m=\u001b[39m SceneClass(renderer\u001b[38;5;241m=\u001b[39mrenderer)\n\u001b[0;32m--> 143\u001b[0m     \u001b[43mscene\u001b[49m\u001b[38;5;241;43m.\u001b[39;49m\u001b[43mrender\u001b[49m\u001b[43m(\u001b[49m\u001b[43m)\u001b[49m\n\u001b[1;32m    144\u001b[0m \u001b[38;5;28;01mfinally\u001b[39;00m:\n\u001b[1;32m    145\u001b[0m     \u001b[38;5;66;03m# Shader cache becomes invalid as the context is destroyed\u001b[39;00m\n\u001b[1;32m    146\u001b[0m     shader_program_cache\u001b[38;5;241m.\u001b[39mclear()\n",
      "File \u001b[0;32m~/Projects/visualizations/.venv/lib/python3.12/site-packages/manim/scene/scene.py:229\u001b[0m, in \u001b[0;36mScene.render\u001b[0;34m(self, preview)\u001b[0m\n\u001b[1;32m    227\u001b[0m \u001b[38;5;28mself\u001b[39m\u001b[38;5;241m.\u001b[39msetup()\n\u001b[1;32m    228\u001b[0m \u001b[38;5;28;01mtry\u001b[39;00m:\n\u001b[0;32m--> 229\u001b[0m     \u001b[38;5;28;43mself\u001b[39;49m\u001b[38;5;241;43m.\u001b[39;49m\u001b[43mconstruct\u001b[49m\u001b[43m(\u001b[49m\u001b[43m)\u001b[49m\n\u001b[1;32m    230\u001b[0m \u001b[38;5;28;01mexcept\u001b[39;00m EndSceneEarlyException:\n\u001b[1;32m    231\u001b[0m     \u001b[38;5;28;01mpass\u001b[39;00m\n",
      "File \u001b[0;32m<string>:87\u001b[0m, in \u001b[0;36mconstruct\u001b[0;34m(self)\u001b[0m\n",
      "File \u001b[0;32m<string>:53\u001b[0m, in \u001b[0;36mplot_vectors\u001b[0;34m(self)\u001b[0m\n",
      "File \u001b[0;32m~/Projects/visualizations/.venv/lib/python3.12/site-packages/manim/scene/scene.py:1092\u001b[0m, in \u001b[0;36mScene.play\u001b[0;34m(self, subcaption, subcaption_duration, subcaption_offset, *args, **kwargs)\u001b[0m\n\u001b[1;32m   1089\u001b[0m     \u001b[38;5;28;01mreturn\u001b[39;00m\n\u001b[1;32m   1091\u001b[0m start_time \u001b[38;5;241m=\u001b[39m \u001b[38;5;28mself\u001b[39m\u001b[38;5;241m.\u001b[39mrenderer\u001b[38;5;241m.\u001b[39mtime\n\u001b[0;32m-> 1092\u001b[0m \u001b[38;5;28;43mself\u001b[39;49m\u001b[38;5;241;43m.\u001b[39;49m\u001b[43mrenderer\u001b[49m\u001b[38;5;241;43m.\u001b[39;49m\u001b[43mplay\u001b[49m\u001b[43m(\u001b[49m\u001b[38;5;28;43mself\u001b[39;49m\u001b[43m,\u001b[49m\u001b[43m \u001b[49m\u001b[38;5;241;43m*\u001b[39;49m\u001b[43margs\u001b[49m\u001b[43m,\u001b[49m\u001b[43m \u001b[49m\u001b[38;5;241;43m*\u001b[39;49m\u001b[38;5;241;43m*\u001b[39;49m\u001b[43mkwargs\u001b[49m\u001b[43m)\u001b[49m\n\u001b[1;32m   1093\u001b[0m run_time \u001b[38;5;241m=\u001b[39m \u001b[38;5;28mself\u001b[39m\u001b[38;5;241m.\u001b[39mrenderer\u001b[38;5;241m.\u001b[39mtime \u001b[38;5;241m-\u001b[39m start_time\n\u001b[1;32m   1094\u001b[0m \u001b[38;5;28;01mif\u001b[39;00m subcaption:\n",
      "File \u001b[0;32m~/Projects/visualizations/.venv/lib/python3.12/site-packages/manim/renderer/cairo_renderer.py:70\u001b[0m, in \u001b[0;36mCairoRenderer.play\u001b[0;34m(self, scene, *args, **kwargs)\u001b[0m\n\u001b[1;32m     67\u001b[0m \u001b[38;5;28mself\u001b[39m\u001b[38;5;241m.\u001b[39mskip_animations \u001b[38;5;241m=\u001b[39m \u001b[38;5;28mself\u001b[39m\u001b[38;5;241m.\u001b[39m_original_skipping_status\n\u001b[1;32m     68\u001b[0m \u001b[38;5;28mself\u001b[39m\u001b[38;5;241m.\u001b[39mupdate_skipping_status()\n\u001b[0;32m---> 70\u001b[0m \u001b[43mscene\u001b[49m\u001b[38;5;241;43m.\u001b[39;49m\u001b[43mcompile_animation_data\u001b[49m\u001b[43m(\u001b[49m\u001b[38;5;241;43m*\u001b[39;49m\u001b[43margs\u001b[49m\u001b[43m,\u001b[49m\u001b[43m \u001b[49m\u001b[38;5;241;43m*\u001b[39;49m\u001b[38;5;241;43m*\u001b[39;49m\u001b[43mkwargs\u001b[49m\u001b[43m)\u001b[49m\n\u001b[1;32m     72\u001b[0m \u001b[38;5;28;01mif\u001b[39;00m \u001b[38;5;28mself\u001b[39m\u001b[38;5;241m.\u001b[39mskip_animations:\n\u001b[1;32m     73\u001b[0m     logger\u001b[38;5;241m.\u001b[39mdebug(\u001b[38;5;124mf\u001b[39m\u001b[38;5;124m\"\u001b[39m\u001b[38;5;124mSkipping animation \u001b[39m\u001b[38;5;132;01m{\u001b[39;00m\u001b[38;5;28mself\u001b[39m\u001b[38;5;241m.\u001b[39mnum_plays\u001b[38;5;132;01m}\u001b[39;00m\u001b[38;5;124m\"\u001b[39m)\n",
      "File \u001b[0;32m~/Projects/visualizations/.venv/lib/python3.12/site-packages/manim/scene/scene.py:1198\u001b[0m, in \u001b[0;36mScene.compile_animation_data\u001b[0;34m(self, *animations, **play_kwargs)\u001b[0m\n\u001b[1;32m   1195\u001b[0m \u001b[38;5;66;03m# NOTE TODO : returns statement of this method are wrong. It should return nothing, as it makes a little sense to get any information from this method.\u001b[39;00m\n\u001b[1;32m   1196\u001b[0m \u001b[38;5;66;03m# The return are kept to keep webgl renderer from breaking.\u001b[39;00m\n\u001b[1;32m   1197\u001b[0m \u001b[38;5;28;01mif\u001b[39;00m \u001b[38;5;28mlen\u001b[39m(animations) \u001b[38;5;241m==\u001b[39m \u001b[38;5;241m0\u001b[39m:\n\u001b[0;32m-> 1198\u001b[0m     \u001b[38;5;28;01mraise\u001b[39;00m \u001b[38;5;167;01mValueError\u001b[39;00m(\u001b[38;5;124m\"\u001b[39m\u001b[38;5;124mCalled Scene.play with no animations\u001b[39m\u001b[38;5;124m\"\u001b[39m)\n\u001b[1;32m   1200\u001b[0m \u001b[38;5;28mself\u001b[39m\u001b[38;5;241m.\u001b[39manimations \u001b[38;5;241m=\u001b[39m \u001b[38;5;28mself\u001b[39m\u001b[38;5;241m.\u001b[39mcompile_animations(\u001b[38;5;241m*\u001b[39manimations, \u001b[38;5;241m*\u001b[39m\u001b[38;5;241m*\u001b[39mplay_kwargs)\n\u001b[1;32m   1201\u001b[0m \u001b[38;5;28mself\u001b[39m\u001b[38;5;241m.\u001b[39madd_mobjects_from_animations(\u001b[38;5;28mself\u001b[39m\u001b[38;5;241m.\u001b[39manimations)\n",
      "\u001b[0;31mValueError\u001b[0m: Called Scene.play with no animations"
     ]
    }
   ],
   "source": [
    "%%manim -ql NormalizeVectorsOnCentroid\n",
    "\n",
    "# This shows 3 2d vectors, visually shows their centroid, and then orients them around the centroid\n",
    "class NormalizeVectorsOnCentroid(Scene):\n",
    "    v1=[0.56,0.82, 0.0]\n",
    "    v2=[1.23,0.71, 0.0]\n",
    "    v3=[-3.28,2.13, 0.0]\n",
    "    centroid = np.mean([v1,v2,v3],axis=0)\n",
    "    # ensure the centroid is clipped to only two decimal places\n",
    "    centroid = np.round(centroid,2)\n",
    "    # now normalize the vectors _v1,_v2,_v3\n",
    "    # equation v1 = (v1−c)/∣∣v1−c∣∣\n",
    "    _v1 = (v1-centroid)/np.linalg.norm(v1-centroid)\n",
    "    _v2 = (v2-centroid)/np.linalg.norm(v2-centroid)\n",
    "    _v3 = (v3-centroid)/np.linalg.norm(v3-centroid)\n",
    "    # clip the normalized vectors to two decimal places\n",
    "    _v1 = np.round(_v1,2)\n",
    "    _v2 = np.round(_v2,2)\n",
    "    _v3 = np.round(_v3,2)    \n",
    "\n",
    "\n",
    "    def setup_axes(self):\n",
    "        self.axes = Axes(\n",
    "            x_range=[-4, 4],\n",
    "            y_range=[-4, 4],\n",
    "            axis_config={\"color\": BLUE},\n",
    "        )\n",
    "        self.add(self.axes)\n",
    "    \n",
    "    def plot_vectors(self):\n",
    "        l1 = Line(start=ORIGIN,end=self.v1)\n",
    "        l2 = Line(start=ORIGIN,end=self.v2)\n",
    "        l3 = Line(start=ORIGIN,end=self.v3)\n",
    "        v1Dot = Dot().move_to(self.v1).scale(0.75).set_color(RED_A)\n",
    "        v2Dot = Dot().move_to(self.v2).scale(0.75).set_color(RED_B)\n",
    "        v3Dot = Dot().move_to(self.v3).scale(0.75).set_color(RED_C)\n",
    "        _v1Dot = Dot().move_to(self._v1).scale(0.75).set_color(GREEN_A)\n",
    "        _v2Dot = Dot().move_to(self._v2).scale(0.75).set_color(GREEN_B)\n",
    "        _v3Dot = Dot().move_to(self._v3).scale(0.75).set_color(GREEN_C)\n",
    "        self.play(Create(VGroup(l1,l2,l3)))\n",
    "        # write the vectors positions on the graph\n",
    "        # make the text smaller\n",
    "        to_write = [Tex(f\"({self.v1[0]},{self.v1[1]})\").scale(0.75).next_to(self.v1,np.array([0.5,0,0])),\n",
    "                    Tex(f\"({self.v2[0]},{self.v2[1]})\").scale(0.75).next_to(self.v2,np.array([0.5,-0.2,0])),\n",
    "                    Tex(f\"({self.v3[0]},{self.v3[1]})\").scale(0.75).next_to(self.v3,np.array([0.5,0,0]))]\n",
    "        self.play(Write(to_write[0]),Write(to_write[1]),Write(to_write[2]))\n",
    "        # transform the lines into dots\n",
    "        self.play(Transform(l1,v1Dot),Transform(l2,v2Dot),Transform(l3,v3Dot))\n",
    "        ## show the centroid as a blue dot, also writing its position\n",
    "        centroid_dot = Dot().move_to(self.centroid).set_color(ORANGE).scale(0.75)\n",
    "        centroid_text = Tex(f\"({self.centroid[0]},{self.centroid[1]})\").scale(0.75).next_to(centroid_dot,np.array([1,0,0]))\n",
    "        self.play(Create(centroid_dot), Write(centroid_text))\n",
    "        ## move each of the dots to the normalized positions, ensuring old dots are removed\n",
    "        self.play(\n",
    "            Transform(v1Dot,_v1Dot),\n",
    "            Transform(v2Dot,_v2Dot),\n",
    "            Transform(v3Dot,_v3Dot), \n",
    "            Transform(centroid_dot,Dot().move_to(ORIGIN).set_color(ORANGE).scale(0.75)),\n",
    "            FadeOut(to_write[0]),\n",
    "            FadeOut(to_write[1]),\n",
    "            FadeOut(to_write[2]),\n",
    "             FadeOut(centroid_text),\n",
    "             FadeOut(l1),\n",
    "             FadeOut(l2),\n",
    "             FadeOut(l3)\n",
    "            )\n",
    "        ## write the normalized positions\n",
    "        to_write = [\n",
    "            Tex(f\"({self._v1[0]},{self._v1[1]})\").scale(0.75).next_to(self._v1,np.array([0.5,-0.5,0])).set_color(GREEN_A),\n",
    "            Tex(f\"({self._v2[0]},{self._v2[1]})\").scale(0.75).next_to(self._v2,np.array([0.5,0.5,0])).set_color(GREEN_B),\n",
    "            Tex(f\"({self._v3[0]},{self._v3[1]})\").scale(0.75).next_to(self._v3,np.array([0.5,0,0])).set_color(GREEN_C)\n",
    "        ]\n",
    "        self.play(Write(to_write[0]),Write(to_write[1]),Write(to_write[2]))\n",
    "        ## draw a dotted circle around the centroid, with radius equal 1\n",
    "        circle = Circle(radius=1).move_to(ORIGIN).set_color(BLUE).set_stroke(width=2,opacity=0.5)\n",
    "        self.play(Create(circle))\n",
    "\n",
    "\n",
    "    def show_result(self):\n",
    "        self.play(Create(Arrow(start=self.centroid,end=self.centroid+self.v1),Arrow(start=self.centroid,end=self.centroid+self.v2),Arrow(start=self.centroid,end=self.centroid+self.v3)))\n",
    "\n",
    "\n",
    "    # create an axis and plot the vectors, origin at 0,0\n",
    "    def construct(self):\n",
    "        self.setup_axes()\n",
    "        self.plot_vectors()\n",
    "        self.wait(1)"
   ]
  }
 ],
 "metadata": {
  "kernelspec": {
   "display_name": ".venv",
   "language": "python",
   "name": "python3"
  },
  "language_info": {
   "codemirror_mode": {
    "name": "ipython",
    "version": 3
   },
   "file_extension": ".py",
   "mimetype": "text/x-python",
   "name": "python",
   "nbconvert_exporter": "python",
   "pygments_lexer": "ipython3",
   "version": "3.12.4"
  }
 },
 "nbformat": 4,
 "nbformat_minor": 2
}
