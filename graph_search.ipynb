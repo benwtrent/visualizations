{
 "cells": [
  {
   "cell_type": "code",
   "execution_count": 64,
   "id": "9f271e19",
   "metadata": {},
   "outputs": [],
   "source": [
    "import jupyter_manim\n",
    "import numpy as np\n",
    "from manim import *\n",
    "import heapq\n",
    "\n",
    "config.media_width = \"100%\"\n",
    "config.verbosity = \"WARNING\""
   ]
  },
  {
   "cell_type": "code",
   "execution_count": 134,
   "id": "c489cffb",
   "metadata": {},
   "outputs": [],
   "source": [
    "# This example constructs a simple graph of 2 dimensional vectors, connected to their 5 nearest neighbors\n",
    "# and then performs a breadth first search to find the nearest neighbor to a target vector\n",
    "# distance is measured using Euclidean distance\n",
    "# ensure to seed the random numbers, we will end up doing other visualizations with vectors later\n",
    "np.random.seed(42)\n",
    "        # Create a set of random 2D points\n",
    "num_points = 100\n",
    "points = np.random.rand(num_points, 2) * 6 - 3  # Scale to fit in the scene\n",
    "# make points 3d by adding a zero z-coordinate\n",
    "points = np.hstack((points, np.zeros((num_points, 1))))\n",
    "target = np.array([0.5, 2.4, 0])\n",
    "# find the furthest point to demonstrate worst case search\n",
    "distances = np.linalg.norm(points - target, axis=1)\n",
    "start_index = np.argmax(distances)\n",
    "# Connect each point to its 5 nearest neighbors\n",
    "edges = []\n",
    "idx_to_neighbors = {}\n",
    "for i in range(num_points):\n",
    "    distances = np.linalg.norm(points - points[i], axis=1)\n",
    "    nearest_indices = np.argsort(distances)[1:6]  # Exclude self (index 0)\n",
    "    for j in nearest_indices:\n",
    "        edges.append((i, j))\n",
    "        if i not in idx_to_neighbors:\n",
    "            idx_to_neighbors[i] = []\n",
    "        if j not in idx_to_neighbors:\n",
    "            idx_to_neighbors[j] = []\n",
    "        # edges are undirected\n",
    "        idx_to_neighbors[i].append(j)\n",
    "        idx_to_neighbors[j].append(i)\n",
    "\n",
    "# we purposefully ignore the z-coordinate in distance calculations\n",
    "def calculate_distance(point, target):\n",
    "    return np.linalg.norm(point[:2] - target[:2])"
   ]
  },
  {
   "cell_type": "code",
   "execution_count": 66,
   "id": "0ca65145",
   "metadata": {},
   "outputs": [],
   "source": [
    "class GraphSearchExample(ThreeDScene):\n",
    "    # pass in the graph data in ctor\n",
    "    def __init__(self, points, edges, idx_to_neighbors, start_index, **kwargs):\n",
    "        self.graph_data = {\n",
    "            \"points\": points,\n",
    "            \"edges\": edges,\n",
    "            \"idx_to_neighbors\": idx_to_neighbors\n",
    "        }\n",
    "        self.start_index = start_index\n",
    "        super().__init__(**kwargs)\n",
    "    \n",
    "    def construct(self):\n",
    "        \n",
    "        num_points = len(self.graph_data[\"points\"])\n",
    "        points = self.graph_data[\"points\"]\n",
    "        edges = self.graph_data[\"edges\"]\n",
    "        idx_to_neighbors = self.graph_data[\"idx_to_neighbors\"]\n",
    "        # Create a graph using the points as vertices\n",
    "        graph = Graph(\n",
    "            vertices=[i for i in range(num_points)],\n",
    "            edges=edges,\n",
    "            # remember to convert 2D points to 3D by adding a zero z-coordinate\n",
    "            layout={i: points[i] for i in range(num_points)},\n",
    "            vertex_config={\"radius\": 0.075, \"color\": BLUE},\n",
    "            edge_config={\"color\": GREY},\n",
    "        )\n",
    "\n",
    "\n",
    "        self.play(Create(graph))\n",
    "        self.wait(1)\n",
    "\n",
    "        # Define the target point\n",
    "        target_point = np.array([0.5, 2.4, 0])\n",
    "        target_dot = Dot(point=target_point, color=RED)\n",
    "        self.play(FadeIn(target_dot))\n",
    "        self.wait(1)\n",
    "\n",
    "        # Perform a depth-first search to find the nearest neighbor to the target point, highlighting the search process by changing the color of the vertices and edges as they are explored to green\n",
    "        score = calculate_distance(points[self.start_index], target_point)\n",
    "        # we need a min-heap to explore the lowest score first\n",
    "        stack = [(score, self.start_index)]  # (score, vertex)\n",
    "        heapq.heapify(stack)\n",
    "        visited = set()\n",
    "        found_vertex = None\n",
    "        num_hops = 0\n",
    "        min_score = float('inf')\n",
    "        while stack:\n",
    "            score, current_vertex = heapq.heappop(stack)\n",
    "            if current_vertex in visited:\n",
    "                continue\n",
    "            visited.add(current_vertex)\n",
    "\n",
    "            # Check if this vertex is the closest to the target point\n",
    "            if score < min_score:\n",
    "                num_hops += 1\n",
    "                score_text = Text(f\"Visiting {current_vertex}, Score: {score:.2f}\", font_size=24).to_corner(UL)\n",
    "                self.play(AnimationGroup(Write(score_text), graph[current_vertex].animate.set_color(YELLOW)))\n",
    "                previous = found_vertex\n",
    "                found_vertex = current_vertex\n",
    "                min_score = score\n",
    "                animations = []\n",
    "                if previous is not None:\n",
    "                    animations.append(graph[previous].animate.set_color(WHITE))\n",
    "                animations.append(graph[current_vertex].animate.set_color(GREEN))\n",
    "                animations.append(FadeOut(score_text))\n",
    "                self.play(*animations)\n",
    "                for neighbor in idx_to_neighbors.get(current_vertex, []):\n",
    "                    neighbor_score = calculate_distance(points[neighbor], target_point)\n",
    "                    print(f\"{current_vertex} Adding Neighbor {neighbor}, Score: {neighbor_score:.2f} Min Score: {min_score:.2f}\")\n",
    "                    if neighbor not in visited and neighbor_score < min_score:\n",
    "                        heapq.heappush(stack, (neighbor_score, neighbor))\n",
    "\n",
    "\n",
    "        # Highlight the found vertex\n",
    "        self.play(Text(f\"Found Nearest Neighbor in {num_hops} hops!\", font_size=36).to_edge(UP).animate.set_color(GREEN))\n",
    "        self.wait(2)"
   ]
  },
  {
   "cell_type": "code",
   "execution_count": 67,
   "id": "7cb61a4a",
   "metadata": {},
   "outputs": [
    {
     "data": {
      "text/html": [
       "<pre style=\"white-space:pre;overflow-x:auto;line-height:normal;font-family:Menlo,'DejaVu Sans Mono',consolas,'Courier New',monospace\">Manim Community <span style=\"color: #008000; text-decoration-color: #008000\">v0.18.1</span>\n",
       "\n",
       "</pre>\n"
      ],
      "text/plain": [
       "Manim Community \u001b[32mv0.\u001b[0m\u001b[32m18.1\u001b[0m\n",
       "\n"
      ]
     },
     "metadata": {},
     "output_type": "display_data"
    },
    {
     "name": "stderr",
     "output_type": "stream",
     "text": [
      "                                                                                                                    \r"
     ]
    },
    {
     "name": "stdout",
     "output_type": "stream",
     "text": [
      "49 Adding Neighbor 2, Score: 5.15 Min Score: 5.81\n",
      "49 Adding Neighbor 28, Score: 5.16 Min Score: 5.81\n",
      "49 Adding Neighbor 28, Score: 5.16 Min Score: 5.81\n",
      "49 Adding Neighbor 2, Score: 5.15 Min Score: 5.81\n",
      "49 Adding Neighbor 74, Score: 4.91 Min Score: 5.81\n",
      "49 Adding Neighbor 7, Score: 4.93 Min Score: 5.81\n",
      "49 Adding Neighbor 54, Score: 5.38 Min Score: 5.81\n"
     ]
    },
    {
     "name": "stderr",
     "output_type": "stream",
     "text": [
      "                                                                                          \r"
     ]
    },
    {
     "name": "stdout",
     "output_type": "stream",
     "text": [
      "74 Adding Neighbor 28, Score: 5.16 Min Score: 4.91\n",
      "74 Adding Neighbor 29, Score: 4.72 Min Score: 4.91\n",
      "74 Adding Neighbor 49, Score: 5.81 Min Score: 4.91\n",
      "74 Adding Neighbor 66, Score: 4.37 Min Score: 4.91\n",
      "74 Adding Neighbor 29, Score: 4.72 Min Score: 4.91\n",
      "74 Adding Neighbor 66, Score: 4.37 Min Score: 4.91\n",
      "74 Adding Neighbor 28, Score: 5.16 Min Score: 4.91\n",
      "74 Adding Neighbor 2, Score: 5.15 Min Score: 4.91\n",
      "74 Adding Neighbor 7, Score: 4.93 Min Score: 4.91\n"
     ]
    },
    {
     "name": "stderr",
     "output_type": "stream",
     "text": [
      "                                                                                          \r"
     ]
    },
    {
     "name": "stdout",
     "output_type": "stream",
     "text": [
      "66 Adding Neighbor 29, Score: 4.72 Min Score: 4.37\n",
      "66 Adding Neighbor 29, Score: 4.72 Min Score: 4.37\n",
      "66 Adding Neighbor 74, Score: 4.91 Min Score: 4.37\n",
      "66 Adding Neighbor 62, Score: 3.55 Min Score: 4.37\n",
      "66 Adding Neighbor 28, Score: 5.16 Min Score: 4.37\n",
      "66 Adding Neighbor 76, Score: 3.60 Min Score: 4.37\n",
      "66 Adding Neighbor 74, Score: 4.91 Min Score: 4.37\n"
     ]
    },
    {
     "name": "stderr",
     "output_type": "stream",
     "text": [
      "                                                                                           \r"
     ]
    },
    {
     "name": "stdout",
     "output_type": "stream",
     "text": [
      "62 Adding Neighbor 8, Score: 2.81 Min Score: 3.55\n",
      "62 Adding Neighbor 11, Score: 3.65 Min Score: 3.55\n",
      "62 Adding Neighbor 13, Score: 3.26 Min Score: 3.55\n",
      "62 Adding Neighbor 20, Score: 3.68 Min Score: 3.55\n",
      "62 Adding Neighbor 23, Score: 2.80 Min Score: 3.55\n",
      "62 Adding Neighbor 42, Score: 3.82 Min Score: 3.55\n",
      "62 Adding Neighbor 51, Score: 2.85 Min Score: 3.55\n",
      "62 Adding Neighbor 11, Score: 3.65 Min Score: 3.55\n",
      "62 Adding Neighbor 13, Score: 3.26 Min Score: 3.55\n",
      "62 Adding Neighbor 76, Score: 3.60 Min Score: 3.55\n",
      "62 Adding Neighbor 51, Score: 2.85 Min Score: 3.55\n",
      "62 Adding Neighbor 8, Score: 2.81 Min Score: 3.55\n",
      "62 Adding Neighbor 66, Score: 4.37 Min Score: 3.55\n",
      "62 Adding Neighbor 76, Score: 3.60 Min Score: 3.55\n",
      "62 Adding Neighbor 97, Score: 3.62 Min Score: 3.55\n"
     ]
    },
    {
     "name": "stderr",
     "output_type": "stream",
     "text": [
      "                                                                                           \r"
     ]
    },
    {
     "name": "stdout",
     "output_type": "stream",
     "text": [
      "23 Adding Neighbor 8, Score: 2.81 Min Score: 2.80\n",
      "23 Adding Neighbor 8, Score: 2.81 Min Score: 2.80\n",
      "23 Adding Neighbor 51, Score: 2.85 Min Score: 2.80\n",
      "23 Adding Neighbor 32, Score: 2.81 Min Score: 2.80\n",
      "23 Adding Neighbor 13, Score: 3.26 Min Score: 2.80\n",
      "23 Adding Neighbor 62, Score: 3.55 Min Score: 2.80\n",
      "23 Adding Neighbor 32, Score: 2.81 Min Score: 2.80\n",
      "23 Adding Neighbor 51, Score: 2.85 Min Score: 2.80\n",
      "23 Adding Neighbor 80, Score: 2.06 Min Score: 2.80\n"
     ]
    },
    {
     "name": "stderr",
     "output_type": "stream",
     "text": [
      "                                                                                           \r"
     ]
    },
    {
     "name": "stdout",
     "output_type": "stream",
     "text": [
      "80 Adding Neighbor 12, Score: 1.03 Min Score: 2.06\n",
      "80 Adding Neighbor 22, Score: 2.41 Min Score: 2.06\n",
      "80 Adding Neighbor 53, Score: 1.35 Min Score: 2.06\n",
      "80 Adding Neighbor 68, Score: 1.24 Min Score: 2.06\n",
      "80 Adding Neighbor 79, Score: 2.32 Min Score: 2.06\n",
      "80 Adding Neighbor 22, Score: 2.41 Min Score: 2.06\n",
      "80 Adding Neighbor 92, Score: 2.43 Min Score: 2.06\n",
      "80 Adding Neighbor 32, Score: 2.81 Min Score: 2.06\n",
      "80 Adding Neighbor 8, Score: 2.81 Min Score: 2.06\n",
      "80 Adding Neighbor 23, Score: 2.80 Min Score: 2.06\n",
      "80 Adding Neighbor 92, Score: 2.43 Min Score: 2.06\n"
     ]
    },
    {
     "name": "stderr",
     "output_type": "stream",
     "text": [
      "                                                                                           \r"
     ]
    },
    {
     "name": "stdout",
     "output_type": "stream",
     "text": [
      "12 Adding Neighbor 0, Score: 1.29 Min Score: 1.03\n",
      "12 Adding Neighbor 4, Score: 1.16 Min Score: 1.03\n",
      "12 Adding Neighbor 53, Score: 1.35 Min Score: 1.03\n",
      "12 Adding Neighbor 68, Score: 1.24 Min Score: 1.03\n",
      "12 Adding Neighbor 4, Score: 1.16 Min Score: 1.03\n",
      "12 Adding Neighbor 80, Score: 2.06 Min Score: 1.03\n",
      "12 Adding Neighbor 0, Score: 1.29 Min Score: 1.03\n",
      "12 Adding Neighbor 27, Score: 0.16 Min Score: 1.03\n",
      "12 Adding Neighbor 53, Score: 1.35 Min Score: 1.03\n",
      "12 Adding Neighbor 68, Score: 1.24 Min Score: 1.03\n",
      "12 Adding Neighbor 69, Score: 1.39 Min Score: 1.03\n"
     ]
    },
    {
     "name": "stderr",
     "output_type": "stream",
     "text": [
      "                                                                                           \r"
     ]
    },
    {
     "name": "stdout",
     "output_type": "stream",
     "text": [
      "27 Adding Neighbor 0, Score: 1.29 Min Score: 0.16\n",
      "27 Adding Neighbor 57, Score: 0.35 Min Score: 0.16\n",
      "27 Adding Neighbor 98, Score: 0.86 Min Score: 0.16\n",
      "27 Adding Neighbor 78, Score: 0.99 Min Score: 0.16\n",
      "27 Adding Neighbor 12, Score: 1.03 Min Score: 0.16\n",
      "27 Adding Neighbor 60, Score: 1.34 Min Score: 0.16\n",
      "27 Adding Neighbor 57, Score: 0.35 Min Score: 0.16\n",
      "27 Adding Neighbor 69, Score: 1.39 Min Score: 0.16\n",
      "27 Adding Neighbor 98, Score: 0.86 Min Score: 0.16\n"
     ]
    },
    {
     "name": "stderr",
     "output_type": "stream",
     "text": [
      "                                                                                                                          \r"
     ]
    },
    {
     "data": {
      "text/html": [
       "<video src=\"media/jupyter/NearestNeighborExample@2025-10-06@17-03-46.mp4\" controls autoplay loop style=\"max-width: 100%;\"  >\n",
       "      Your browser does not support the <code>video</code> element.\n",
       "    </video>"
      ],
      "text/plain": [
       "<IPython.core.display.Video object>"
      ]
     },
     "metadata": {},
     "output_type": "display_data"
    }
   ],
   "source": [
    "%%manim -qm NearestNeighborExample\n",
    "\n",
    "class NearestNeighborExample(GraphSearchExample):\n",
    "    def __init__(self, **kwargs):\n",
    "        super().__init__(points, edges, idx_to_neighbors, start_index, **kwargs)"
   ]
  },
  {
   "cell_type": "code",
   "execution_count": 60,
   "id": "5a3f2072",
   "metadata": {},
   "outputs": [
    {
     "data": {
      "text/html": [
       "<pre style=\"white-space:pre;overflow-x:auto;line-height:normal;font-family:Menlo,'DejaVu Sans Mono',consolas,'Courier New',monospace\">Manim Community <span style=\"color: #008000; text-decoration-color: #008000\">v0.18.1</span>\n",
       "\n",
       "</pre>\n"
      ],
      "text/plain": [
       "Manim Community \u001b[32mv0.\u001b[0m\u001b[32m18.1\u001b[0m\n",
       "\n"
      ]
     },
     "metadata": {},
     "output_type": "display_data"
    },
    {
     "name": "stderr",
     "output_type": "stream",
     "text": [
      "                                                                                                                  \r"
     ]
    },
    {
     "name": "stdout",
     "output_type": "stream",
     "text": [
      "49 Adding Neighbor 2, Score: 5.15 Min Score: 5.81\n",
      "49 Adding Neighbor 28, Score: 5.16 Min Score: 5.81\n",
      "49 Adding Neighbor 28, Score: 5.16 Min Score: 5.81\n",
      "49 Adding Neighbor 2, Score: 5.15 Min Score: 5.81\n",
      "49 Adding Neighbor 74, Score: 4.91 Min Score: 5.81\n",
      "49 Adding Neighbor 7, Score: 4.93 Min Score: 5.81\n",
      "49 Adding Neighbor 54, Score: 5.38 Min Score: 5.81\n",
      "49 Adding Neighbor 80, Score: 2.06 Min Score: 5.81\n"
     ]
    },
    {
     "name": "stderr",
     "output_type": "stream",
     "text": [
      "                                                                               \r"
     ]
    },
    {
     "name": "stdout",
     "output_type": "stream",
     "text": [
      "80 Adding Neighbor 12, Score: 1.03 Min Score: 2.06\n",
      "80 Adding Neighbor 22, Score: 2.41 Min Score: 2.06\n",
      "80 Adding Neighbor 53, Score: 1.35 Min Score: 2.06\n",
      "80 Adding Neighbor 68, Score: 1.24 Min Score: 2.06\n",
      "80 Adding Neighbor 79, Score: 2.32 Min Score: 2.06\n",
      "80 Adding Neighbor 22, Score: 2.41 Min Score: 2.06\n",
      "80 Adding Neighbor 92, Score: 2.43 Min Score: 2.06\n",
      "80 Adding Neighbor 32, Score: 2.81 Min Score: 2.06\n",
      "80 Adding Neighbor 8, Score: 2.81 Min Score: 2.06\n",
      "80 Adding Neighbor 23, Score: 2.80 Min Score: 2.06\n",
      "80 Adding Neighbor 92, Score: 2.43 Min Score: 2.06\n",
      "80 Adding Neighbor 49, Score: 5.81 Min Score: 2.06\n",
      "80 Adding Neighbor 84, Score: 3.75 Min Score: 2.06\n"
     ]
    },
    {
     "name": "stderr",
     "output_type": "stream",
     "text": [
      "                                                                               \r"
     ]
    },
    {
     "name": "stdout",
     "output_type": "stream",
     "text": [
      "12 Adding Neighbor 0, Score: 1.29 Min Score: 1.03\n",
      "12 Adding Neighbor 4, Score: 1.16 Min Score: 1.03\n",
      "12 Adding Neighbor 53, Score: 1.35 Min Score: 1.03\n",
      "12 Adding Neighbor 68, Score: 1.24 Min Score: 1.03\n",
      "12 Adding Neighbor 4, Score: 1.16 Min Score: 1.03\n",
      "12 Adding Neighbor 80, Score: 2.06 Min Score: 1.03\n",
      "12 Adding Neighbor 0, Score: 1.29 Min Score: 1.03\n",
      "12 Adding Neighbor 27, Score: 0.16 Min Score: 1.03\n",
      "12 Adding Neighbor 53, Score: 1.35 Min Score: 1.03\n",
      "12 Adding Neighbor 68, Score: 1.24 Min Score: 1.03\n",
      "12 Adding Neighbor 69, Score: 1.39 Min Score: 1.03\n"
     ]
    },
    {
     "name": "stderr",
     "output_type": "stream",
     "text": [
      "                                                                                \r"
     ]
    },
    {
     "name": "stdout",
     "output_type": "stream",
     "text": [
      "27 Adding Neighbor 0, Score: 1.29 Min Score: 0.16\n",
      "27 Adding Neighbor 57, Score: 0.35 Min Score: 0.16\n",
      "27 Adding Neighbor 98, Score: 0.86 Min Score: 0.16\n",
      "27 Adding Neighbor 78, Score: 0.99 Min Score: 0.16\n",
      "27 Adding Neighbor 12, Score: 1.03 Min Score: 0.16\n",
      "27 Adding Neighbor 60, Score: 1.34 Min Score: 0.16\n",
      "27 Adding Neighbor 57, Score: 0.35 Min Score: 0.16\n",
      "27 Adding Neighbor 69, Score: 1.39 Min Score: 0.16\n",
      "27 Adding Neighbor 98, Score: 0.86 Min Score: 0.16\n"
     ]
    },
    {
     "name": "stderr",
     "output_type": "stream",
     "text": [
      "                                                                                                                          \r"
     ]
    },
    {
     "data": {
      "text/html": [
       "<video src=\"media/jupyter/RandomNeighborExample@2025-10-06@16-56-54.mp4\" controls autoplay loop style=\"max-width: 100%;\"  >\n",
       "      Your browser does not support the <code>video</code> element.\n",
       "    </video>"
      ],
      "text/plain": [
       "<IPython.core.display.Video object>"
      ]
     },
     "metadata": {},
     "output_type": "display_data"
    }
   ],
   "source": [
    "%%manim -qm RandomNeighborExample\n",
    "# now lets adjust the graph to adjust the edges so that 1% of the points have a couple random connections to other points\n",
    "#  in addition to their nearest neighbors \n",
    "# --- IGNORE ---\n",
    "np.random.seed(42)\n",
    "for i in range(num_points):\n",
    "    if np.random.rand() < 0.05:\n",
    "        # now add 2 random edges to other points\n",
    "        # to ensure we don't connect to self or existing neighbors,\n",
    "        possible_indices = list(set(range(num_points)) - {i} - set(idx_to_neighbors.get(i, [])))\n",
    "        if len(possible_indices) >= 2:\n",
    "            random_indices = np.random.choice(possible_indices, 2, replace=False)\n",
    "        for j in random_indices:\n",
    "            edges.append((i, j))\n",
    "            # edges are undirected\n",
    "            idx_to_neighbors[i].append(j)\n",
    "            idx_to_neighbors[j].append(i)\n",
    "class RandomNeighborExample(GraphSearchExample):\n",
    "    def __init__(self, **kwargs):\n",
    "        super().__init__(points, edges, idx_to_neighbors, start_index, **kwargs)"
   ]
  },
  {
   "cell_type": "code",
   "execution_count": null,
   "id": "89597d3a",
   "metadata": {},
   "outputs": [
    {
     "data": {
      "text/html": [
       "<pre style=\"white-space:pre;overflow-x:auto;line-height:normal;font-family:Menlo,'DejaVu Sans Mono',consolas,'Courier New',monospace\">Manim Community <span style=\"color: #008000; text-decoration-color: #008000\">v0.18.1</span>\n",
       "\n",
       "</pre>\n"
      ],
      "text/plain": [
       "Manim Community \u001b[32mv0.\u001b[0m\u001b[32m18.1\u001b[0m\n",
       "\n"
      ]
     },
     "metadata": {},
     "output_type": "display_data"
    },
    {
     "name": "stderr",
     "output_type": "stream",
     "text": [
      "                                                                                                                    "
     ]
    },
    {
     "name": "stdout",
     "output_type": "stream",
     "text": [
      "49 Adding Neighbor 64, Score: 4.17 Min Score: 5.81\n",
      "49 Adding Neighbor 81, Score: 2.21 Min Score: 5.81\n",
      "49 Adding Neighbor 1, Score: 2.02 Min Score: 5.81\n",
      "49 Adding Neighbor 66, Score: 4.37 Min Score: 5.81\n",
      "49 Adding Neighbor 68, Score: 1.24 Min Score: 5.81\n",
      "49 Adding Neighbor 59, Score: 2.85 Min Score: 5.81\n",
      "49 Adding Neighbor 86, Score: 4.06 Min Score: 5.81\n"
     ]
    },
    {
     "name": "stderr",
     "output_type": "stream",
     "text": [
      "                                                                                          "
     ]
    },
    {
     "name": "stdout",
     "output_type": "stream",
     "text": [
      "68 Adding Neighbor 74, Score: 4.91 Min Score: 1.24\n",
      "68 Adding Neighbor 23, Score: 2.80 Min Score: 1.24\n",
      "68 Adding Neighbor 59, Score: 2.85 Min Score: 1.24\n",
      "68 Adding Neighbor 39, Score: 4.89 Min Score: 1.24\n",
      "68 Adding Neighbor 98, Score: 0.86 Min Score: 1.24\n",
      "68 Adding Neighbor 69, Score: 1.39 Min Score: 1.24\n",
      "68 Adding Neighbor 76, Score: 3.60 Min Score: 1.24\n",
      "68 Adding Neighbor 91, Score: 2.05 Min Score: 1.24\n"
     ]
    },
    {
     "name": "stderr",
     "output_type": "stream",
     "text": [
      "                                                                                          "
     ]
    },
    {
     "name": "stdout",
     "output_type": "stream",
     "text": [
      "98 Adding Neighbor 44, Score: 3.15 Min Score: 0.86\n",
      "98 Adding Neighbor 81, Score: 2.21 Min Score: 0.86\n",
      "98 Adding Neighbor 20, Score: 3.68 Min Score: 0.86\n",
      "98 Adding Neighbor 55, Score: 4.77 Min Score: 0.86\n",
      "98 Adding Neighbor 45, Score: 3.00 Min Score: 0.86\n"
     ]
    },
    {
     "name": "stderr",
     "output_type": "stream",
     "text": [
      "                                                                                                                          "
     ]
    },
    {
     "data": {
      "text/html": [
       "<video src=\"media/jupyter/PurelyRandomNeighborExample@2025-10-07@10-18-57.mp4\" controls autoplay loop style=\"max-width: 100%;\"  >\n",
       "      Your browser does not support the <code>video</code> element.\n",
       "    </video>"
      ],
      "text/plain": [
       "<IPython.core.display.Video object>"
      ]
     },
     "metadata": {},
     "output_type": "display_data"
    }
   ],
   "source": [
    "%%manim -qm PurelyRandomNeighborExample\n",
    "# now lets see what a purely random neighbor example looks like\n",
    "#  where each point has 5 random connections to other points\n",
    "\n",
    "np.random.seed(0)\n",
    "random_idx_to_neighbors = {}\n",
    "random_edges = []\n",
    "for i in range(num_points):\n",
    "    random_neighbors = np.random.choice(num_points, 6, replace=False)\n",
    "    # make sure we don't connect to self\n",
    "    random_neighbors = [j for j in random_neighbors if j != i]\n",
    "    random_neighbors = random_neighbors[:5]  # limit to 5 neighbors\n",
    "    random_idx_to_neighbors[i] = []\n",
    "    for j in random_neighbors:\n",
    "        random_edges.append((i, j))\n",
    "        random_idx_to_neighbors[i].append(j)\n",
    "        if j not in random_idx_to_neighbors:\n",
    "            random_idx_to_neighbors[j] = []\n",
    "        random_idx_to_neighbors[j].append(i)  # undirected edge\n",
    "\n",
    "class PurelyRandomNeighborExample(GraphSearchExample):\n",
    "    def __init__(self, **kwargs):\n",
    "        super().__init__(points, random_edges, random_idx_to_neighbors, start_index, **kwargs)"
   ]
  },
  {
   "cell_type": "code",
   "execution_count": 132,
   "id": "19010ad2",
   "metadata": {},
   "outputs": [
    {
     "name": "stdout",
     "output_type": "stream",
     "text": [
      "Second layer has 6 points\n",
      "Total edges before adding second layer: [(100, 103), (100, 104), (101, 102), (101, 104), (102, 101), (102, 104), (103, 100), (103, 102), (104, 102), (104, 100), (105, 102), (105, 103)]\n",
      "3D Graph has 106 points, starting at 104\n"
     ]
    },
    {
     "data": {
      "text/html": [
       "<pre style=\"white-space:pre;overflow-x:auto;line-height:normal;font-family:Menlo,'DejaVu Sans Mono',consolas,'Courier New',monospace\">Manim Community <span style=\"color: #008000; text-decoration-color: #008000\">v0.18.1</span>\n",
       "\n",
       "</pre>\n"
      ],
      "text/plain": [
       "Manim Community \u001b[32mv0.\u001b[0m\u001b[32m18.1\u001b[0m\n",
       "\n"
      ]
     },
     "metadata": {},
     "output_type": "display_data"
    },
    {
     "name": "stderr",
     "output_type": "stream",
     "text": [
      "                                                                                                                  "
     ]
    },
    {
     "name": "stdout",
     "output_type": "stream",
     "text": [
      "second_layer_offset: 100\n",
      "second_layer_vertices: [10, 29, 42, 58, 72, 98]\n",
      "len(second_layer_vertices): 6\n",
      "Visiting 104, Score: 5.48\n"
     ]
    },
    {
     "name": "stderr",
     "output_type": "stream",
     "text": [
      "                                                                               "
     ]
    },
    {
     "name": "stdout",
     "output_type": "stream",
     "text": [
      "getting neighbors for 104 in second layer: {100: [104, 103, 104], 103: [102, 105], 104: [100], 101: [104, 102], 102: [104, 103, 104, 105], 105: [103]}\n",
      "104 Adding Neighbor 100, Score: 4.57 Min Score: 5.48\n",
      "Visiting 100, Score: 4.57\n"
     ]
    },
    {
     "name": "stderr",
     "output_type": "stream",
     "text": [
      "                                                                                "
     ]
    },
    {
     "name": "stdout",
     "output_type": "stream",
     "text": [
      "getting neighbors for 100 in second layer: {100: [104, 103, 104], 103: [102, 105], 104: [100], 101: [104, 102], 102: [104, 103, 104, 105], 105: [103]}\n",
      "100 Adding Neighbor 104, Score: 5.48 Min Score: 4.57\n",
      "100 Adding Neighbor 103, Score: 4.48 Min Score: 4.57\n",
      "100 Adding Neighbor 104, Score: 5.48 Min Score: 4.57\n",
      "Visiting 103, Score: 4.48\n"
     ]
    },
    {
     "name": "stderr",
     "output_type": "stream",
     "text": [
      "                                                                                "
     ]
    },
    {
     "name": "stdout",
     "output_type": "stream",
     "text": [
      "getting neighbors for 103 in second layer: {100: [104, 103, 104], 103: [102, 105], 104: [100], 101: [104, 102], 102: [104, 103, 104, 105], 105: [103]}\n",
      "103 Adding Neighbor 102, Score: 3.82 Min Score: 4.48\n",
      "103 Adding Neighbor 105, Score: 0.86 Min Score: 4.48\n",
      "Visiting 105, Score: 0.86\n"
     ]
    },
    {
     "name": "stderr",
     "output_type": "stream",
     "text": [
      "                                                                                "
     ]
    },
    {
     "name": "stdout",
     "output_type": "stream",
     "text": [
      "getting neighbors for 105 in second layer: {100: [104, 103, 104], 103: [102, 105], 104: [100], 101: [104, 102], 102: [104, 103, 104, 105], 105: [103]}\n",
      "105 Adding Neighbor 103, Score: 4.48 Min Score: 0.86\n"
     ]
    },
    {
     "name": "stderr",
     "output_type": "stream",
     "text": [
      "                                                                                                              "
     ]
    },
    {
     "name": "stdout",
     "output_type": "stream",
     "text": [
      "init full graph search from 105, score 0.86\n",
      "second_layer_vertex: 105 adjusted: 5\n",
      "related first layer: 98\n",
      "original_vertex_idx: 98\n",
      "Starting full graph search from 98, score 0.86\n"
     ]
    },
    {
     "name": "stderr",
     "output_type": "stream",
     "text": [
      "                                                                                           "
     ]
    },
    {
     "name": "stdout",
     "output_type": "stream",
     "text": [
      "98 Adding Neighbor 27, Score: 0.16 Min Score: 0.86\n",
      "98 Adding Neighbor 57, Score: 0.35 Min Score: 0.86\n",
      "98 Adding Neighbor 60, Score: 1.34 Min Score: 0.86\n",
      "98 Adding Neighbor 63, Score: 1.43 Min Score: 0.86\n",
      "98 Adding Neighbor 78, Score: 0.99 Min Score: 0.86\n",
      "98 Adding Neighbor 60, Score: 1.34 Min Score: 0.86\n",
      "98 Adding Neighbor 57, Score: 0.35 Min Score: 0.86\n",
      "98 Adding Neighbor 63, Score: 1.43 Min Score: 0.86\n",
      "98 Adding Neighbor 27, Score: 0.16 Min Score: 0.86\n",
      "98 Adding Neighbor 78, Score: 0.99 Min Score: 0.86\n"
     ]
    },
    {
     "name": "stderr",
     "output_type": "stream",
     "text": [
      "                                                                                           "
     ]
    },
    {
     "name": "stdout",
     "output_type": "stream",
     "text": [
      "27 Adding Neighbor 0, Score: 1.29 Min Score: 0.16\n",
      "27 Adding Neighbor 57, Score: 0.35 Min Score: 0.16\n",
      "27 Adding Neighbor 98, Score: 0.86 Min Score: 0.16\n",
      "27 Adding Neighbor 78, Score: 0.99 Min Score: 0.16\n",
      "27 Adding Neighbor 12, Score: 1.03 Min Score: 0.16\n",
      "27 Adding Neighbor 60, Score: 1.34 Min Score: 0.16\n",
      "27 Adding Neighbor 57, Score: 0.35 Min Score: 0.16\n",
      "27 Adding Neighbor 69, Score: 1.39 Min Score: 0.16\n",
      "27 Adding Neighbor 98, Score: 0.86 Min Score: 0.16\n"
     ]
    },
    {
     "name": "stderr",
     "output_type": "stream",
     "text": [
      "                                                                                                               "
     ]
    },
    {
     "data": {
      "text/html": [
       "<video src=\"media/jupyter/ThreeDGraphSearchExample@2025-10-07@09-09-33.mp4\" controls autoplay loop style=\"max-width: 100%;\"  >\n",
       "      Your browser does not support the <code>video</code> element.\n",
       "    </video>"
      ],
      "text/plain": [
       "<IPython.core.display.Video object>"
      ]
     },
     "metadata": {},
     "output_type": "display_data"
    }
   ],
   "source": [
    "%%manim -qm ThreeDGraphSearchExample\n",
    "num_points = 100\n",
    "edges = []\n",
    "idx_to_neighbors = {}\n",
    "for i in range(num_points):\n",
    "    distances = np.linalg.norm(points - points[i], axis=1)\n",
    "    nearest_indices = np.argsort(distances)[1:6]  # Exclude self (index 0)\n",
    "    for j in nearest_indices:\n",
    "        edges.append((i, j))\n",
    "        if i not in idx_to_neighbors:\n",
    "            idx_to_neighbors[i] = []\n",
    "        if j not in idx_to_neighbors:\n",
    "            idx_to_neighbors[j] = []\n",
    "        # edges are undirected\n",
    "        idx_to_neighbors[i].append(j)\n",
    "        idx_to_neighbors[j].append(i)\n",
    "\n",
    "# here we cheat, and add a second layer of connections that are on the higher z plane\n",
    "# this is to illustrate HNSW style graphs\n",
    "second_layer_vertices = []\n",
    "second_layer_edges = []\n",
    "chance_of_higher_layer = 0.05\n",
    "np.random.seed(42)\n",
    "second_layer_offset = num_points  # offset for second layer indices\n",
    "\n",
    "for i in range(num_points):\n",
    "    if np.random.rand() < chance_of_higher_layer:\n",
    "        # Connect to a random point in the higher layer\n",
    "        second_layer_vertices.append(i)  # z=2 for higher layer\n",
    "# create edges between the vectors on the higher layer, using the nearest neighbor approach again\n",
    "second_layer_points = points[second_layer_vertices] + np.array([0, 0, 2])\n",
    "second_layer_idx_to_neighbors = {}\n",
    "# i just needs to be the index in the second layer + the offset\n",
    "for i, point in enumerate(second_layer_points):\n",
    "    distances = np.linalg.norm(second_layer_points - point, axis=1)\n",
    "    nearest_indices = np.argsort(distances)[1:3]  # Exclude self (index 0)\n",
    "    for j in nearest_indices:\n",
    "        neighbor_idx = j + second_layer_offset\n",
    "        second_layer_edges.append((i + second_layer_offset, neighbor_idx))\n",
    "        # edges are undirected\n",
    "        if i not in second_layer_idx_to_neighbors:\n",
    "            second_layer_idx_to_neighbors[i + second_layer_offset] = []\n",
    "        if neighbor_idx not in second_layer_idx_to_neighbors:\n",
    "            second_layer_idx_to_neighbors[neighbor_idx] = []\n",
    "        second_layer_idx_to_neighbors[i + second_layer_offset].append(neighbor_idx)\n",
    "        second_layer_idx_to_neighbors[neighbor_idx].append(i + second_layer_offset)\n",
    "print(f\"Second layer has {len(second_layer_vertices)} points\")\n",
    "print(f\"Total edges before adding second layer: {second_layer_edges}\")\n",
    "edges.extend(second_layer_edges)\n",
    "threed_points = np.vstack((points, second_layer_points))\n",
    "num_points = len(threed_points)\n",
    "# make sure we only score the first two dimensions\n",
    "# find the furthest point on the second layer to demonstrate worst case search\n",
    "distances = np.linalg.norm(second_layer_points[:, :2] - target[:2], axis=1)\n",
    "start_index = np.argmax(distances) + second_layer_offset\n",
    "\n",
    "print(f\"3D Graph has {num_points} points, starting at {start_index}\")\n",
    "\n",
    "class ThreeDGraphSearchExample(ThreeDScene):\n",
    "\n",
    "    def construct(self):\n",
    "        \n",
    "        # Create a graph using the points as vertices\n",
    "        graph = Graph(\n",
    "            vertices=[i for i in range(num_points)],\n",
    "            edges=edges,\n",
    "            layout={i: threed_points[i] for i in range(num_points)},\n",
    "            vertex_config={\"radius\": 0.075, \"color\": BLUE},\n",
    "            edge_config={\"color\": GREY},\n",
    "        )\n",
    "\n",
    "        self.play(Create(graph))\n",
    "        self.wait(0.5)\n",
    "        # pan down the camera smoothly and stop at the new position\n",
    "        self.move_camera(phi=65 * DEGREES, theta=-45 * DEGREES, run_time=3)\n",
    "        #self.set_camera_orientation(phi=65 * DEGREES, theta=-45 * DEGREES)\n",
    "        self.wait(1)\n",
    "\n",
    "\n",
    "        # Define the target point\n",
    "        target_point = np.array([0.5, 2.4, 0])\n",
    "        target_dot = Dot(point=target_point, color=RED)\n",
    "        self.play(FadeIn(target_dot))\n",
    "        self.wait(1)\n",
    "        print(f\"second_layer_offset: {second_layer_offset}\")\n",
    "        print(f\"second_layer_vertices: {second_layer_vertices}\")\n",
    "        print(f\"len(second_layer_vertices): {len(second_layer_vertices)}\")\n",
    "    \n",
    "        # first explore the second layer of the graph\n",
    "        score = calculate_distance(threed_points[start_index], target_point)\n",
    "        stack = [(score, start_index)]  # (score, vertex)\n",
    "        heapq.heapify(stack)\n",
    "        visited = set()\n",
    "        second_layer_vertex = None\n",
    "        num_hops = 0\n",
    "        min_score = float('inf')\n",
    "        while stack:\n",
    "            score, current_vertex = heapq.heappop(stack)\n",
    "            if current_vertex in visited:\n",
    "                continue\n",
    "            visited.add(current_vertex)\n",
    "\n",
    "            # Check if this vertex is the closest to the target point\n",
    "            if score < min_score:\n",
    "                num_hops += 1\n",
    "                # make sure text is oriented to camera\n",
    "                print(f\"Visiting {current_vertex}, Score: {score:.2f}\")\n",
    "                score_text = Text(f\"Visiting {second_layer_vertices[current_vertex - second_layer_offset]}, Score: {score:.2f}\", font_size=24)\n",
    "                score_text.to_corner(UL)\n",
    "                self.add_fixed_in_frame_mobjects(score_text)\n",
    "                self.remove(score_text)\n",
    "                self.play(AnimationGroup(Write(score_text), graph[current_vertex].animate.set_color(YELLOW)))\n",
    "                self.wait(0.25)\n",
    "                previous = second_layer_vertex\n",
    "                second_layer_vertex = current_vertex\n",
    "                min_score = score\n",
    "                animations = []\n",
    "                if previous is not None:\n",
    "                    animations.append(graph[previous].animate.set_color(WHITE))\n",
    "                animations.append(graph[current_vertex].animate.set_color(GREEN))\n",
    "                animations.append(FadeOut(score_text))\n",
    "                self.play(*animations)\n",
    "                print(f\"getting neighbors for {current_vertex} in second layer: {second_layer_idx_to_neighbors}\")\n",
    "                for neighbor in second_layer_idx_to_neighbors.get(current_vertex, []):\n",
    "                    neighbor = neighbor\n",
    "                    neighbor_score = calculate_distance(threed_points[neighbor], target_point)\n",
    "                    print(f\"{current_vertex} Adding Neighbor {neighbor}, Score: {neighbor_score:.2f} Min Score: {min_score:.2f}\")\n",
    "                    if neighbor not in visited and neighbor_score < min_score:\n",
    "                        heapq.heappush(stack, (neighbor_score, neighbor))\n",
    "        ############\n",
    "        # now we can start on the full graph search\n",
    "        txt = Text(f\"Second Layer Nearest Neighbor in {num_hops} hops!\", font_size=36)\n",
    "        # orient the text to the camera\n",
    "        self.add_fixed_in_frame_mobjects(txt)\n",
    "        txt.to_edge(UP)\n",
    "        txt.set_color(GREEN)\n",
    "        self.play(Write(txt))\n",
    "        self.wait(2)\n",
    "        self.play(FadeOut(txt))\n",
    "        # move camera to immeidately above the graph\n",
    "        self.move_camera(phi=DEGREES, theta=-90 * DEGREES, run_time=3)\n",
    "        self.wait(1)\n",
    "        # now make the second layer vertices and edges less prominent\n",
    "        to_fade = []\n",
    "        for v in range(100, num_points):\n",
    "            to_fade.append(FadeOut(graph[v]))\n",
    "        # now handle all second layer edges\n",
    "        faded_edges = set()\n",
    "        for edge in second_layer_edges:\n",
    "            to_fade.append(FadeOut(graph.edges[edge]))\n",
    "            #if edge not in faded_edges and (edge[1], edge[0]) not in faded_edges:\n",
    "            #    faded_edges.add(edge)\n",
    "        self.play(*to_fade)\n",
    "\n",
    "        print(f\"init full graph search from {second_layer_vertex}, score {min_score:.2f}\")\n",
    "\n",
    "        # Debug information\n",
    "        print(f\"second_layer_vertex: {second_layer_vertex} adjusted: {second_layer_vertex - second_layer_offset}\")\n",
    "        print(f\"related first layer: {second_layer_vertices[second_layer_vertex - second_layer_offset]}\")\n",
    "\n",
    "        # Perform a depth-first search to find the nearest neighbor to the target point, highlighting the search process by changing the color of the vertices and edges as they are explored to green\n",
    "        # we need a min-heap to explore the lowest score first\n",
    "        stack = []\n",
    "        heapq.heapify(stack)\n",
    "        visited = set()\n",
    "        # transform second_layer_vertex to the lower layer, knowing the offset\n",
    "        # second_layer_vertex is the index in the full 3D graph, we need to find the corresponding original vertex\n",
    "        original_vertex_idx = second_layer_vertices[second_layer_vertex - second_layer_offset]  # this gives us the index in second_layer_vertices list\n",
    "        print(f\"original_vertex_idx: {original_vertex_idx}\")\n",
    "        score = min_score \n",
    "        stack = [(score, original_vertex_idx)]  # (score, vertex)\n",
    "        print(f\"Starting full graph search from {original_vertex_idx}, score {score:.2f}\")\n",
    "        found_vertex = None\n",
    "        \n",
    "        while stack:\n",
    "            score, current_vertex = heapq.heappop(stack)\n",
    "            if current_vertex in visited:\n",
    "                continue\n",
    "            visited.add(current_vertex)\n",
    "\n",
    "            # Check if this vertex is the closest to the target point\n",
    "            if score <= min_score or (found_vertex is None):\n",
    "                num_hops += 1\n",
    "                score_text = Text(f\"Visiting {current_vertex}, Score: {score:.2f}\", font_size=24)\n",
    "                score_text.to_corner(UL)\n",
    "                self.play(AnimationGroup(Write(score_text), graph[current_vertex].animate.set_color(YELLOW)))\n",
    "                self.wait(0.5)\n",
    "                previous = found_vertex\n",
    "                found_vertex = current_vertex\n",
    "                min_score = score\n",
    "                animations = []\n",
    "                if previous is not None:\n",
    "                    animations.append(graph[previous].animate.set_color(WHITE))\n",
    "                animations.append(graph[current_vertex].animate.set_color(GREEN))\n",
    "                animations.append(FadeOut(score_text))\n",
    "                self.play(*animations)\n",
    "                for neighbor in idx_to_neighbors.get(current_vertex, []):\n",
    "                    neighbor_score = calculate_distance(threed_points[neighbor], target_point)\n",
    "                    print(f\"{current_vertex} Adding Neighbor {neighbor}, Score: {neighbor_score:.2f} Min Score: {min_score:.2f}\")\n",
    "                    if neighbor not in visited and neighbor_score < min_score:\n",
    "                        heapq.heappush(stack, (neighbor_score, neighbor))\n",
    "\n",
    "\n",
    "        # Highlight the found vertex\n",
    "        final_text = Text(f\"Found Nearest Neighbor in {num_hops - 1} hops!\", font_size=36).to_edge(UP).set_color(GREEN)\n",
    "        #self.add_fixed_in_frame_mobjects(final_text)\n",
    "        self.play(Write(final_text))\n",
    "        self.wait(2)"
   ]
  }
 ],
 "metadata": {
  "kernelspec": {
   "display_name": ".venv",
   "language": "python",
   "name": "python3"
  },
  "language_info": {
   "codemirror_mode": {
    "name": "ipython",
    "version": 3
   },
   "file_extension": ".py",
   "mimetype": "text/x-python",
   "name": "python",
   "nbconvert_exporter": "python",
   "pygments_lexer": "ipython3",
   "version": "3.12.7"
  }
 },
 "nbformat": 4,
 "nbformat_minor": 5
}
